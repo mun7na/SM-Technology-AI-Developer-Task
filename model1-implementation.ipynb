{
 "cells": [
  {
   "cell_type": "markdown",
   "id": "750526e3",
   "metadata": {
    "papermill": {
     "duration": 0.005573,
     "end_time": "2025-04-13T02:32:52.426553",
     "exception": false,
     "start_time": "2025-04-13T02:32:52.420980",
     "status": "completed"
    },
    "tags": []
   },
   "source": [
    "## Import Modules"
   ]
  },
  {
   "cell_type": "code",
   "execution_count": 1,
   "id": "e89446b7",
   "metadata": {
    "execution": {
     "iopub.execute_input": "2025-04-13T02:32:52.436503Z",
     "iopub.status.busy": "2025-04-13T02:32:52.436293Z",
     "iopub.status.idle": "2025-04-13T02:32:56.293413Z",
     "shell.execute_reply": "2025-04-13T02:32:56.292663Z"
    },
    "papermill": {
     "duration": 3.8635,
     "end_time": "2025-04-13T02:32:56.294803",
     "exception": false,
     "start_time": "2025-04-13T02:32:52.431303",
     "status": "completed"
    },
    "tags": []
   },
   "outputs": [
    {
     "name": "stderr",
     "output_type": "stream",
     "text": [
      "[nltk_data] Downloading package stopwords to /usr/share/nltk_data...\n",
      "[nltk_data]   Package stopwords is already up-to-date!\n"
     ]
    }
   ],
   "source": [
    "import pandas as pd\n",
    "import numpy as np\n",
    "import re\n",
    "import matplotlib.pyplot as plt\n",
    "import seaborn as sns\n",
    "import nltk\n",
    "from nltk.corpus import stopwords\n",
    "nltk.download('stopwords')\n",
    "from nltk.stem.snowball import SnowballStemmer\n",
    "\n",
    "from sklearn.model_selection import train_test_split\n",
    "from sklearn.feature_extraction.text import TfidfVectorizer\n",
    "from sklearn.pipeline import Pipeline\n",
    "from sklearn.multiclass import OneVsRestClassifier\n",
    "from sklearn.linear_model import LogisticRegression\n",
    "from sklearn.naive_bayes import MultinomialNB\n",
    "from sklearn.metrics import roc_auc_score, accuracy_score, roc_curve, classification_report\n",
    "\n",
    "import warnings\n",
    "warnings.filterwarnings('ignore')"
   ]
  },
  {
   "cell_type": "markdown",
   "id": "dd99eaf2",
   "metadata": {
    "papermill": {
     "duration": 0.004606,
     "end_time": "2025-04-13T02:32:56.304539",
     "exception": false,
     "start_time": "2025-04-13T02:32:56.299933",
     "status": "completed"
    },
    "tags": []
   },
   "source": [
    "## Load the Dataset"
   ]
  },
  {
   "cell_type": "code",
   "execution_count": 2,
   "id": "60a39c25",
   "metadata": {
    "execution": {
     "iopub.execute_input": "2025-04-13T02:32:56.315272Z",
     "iopub.status.busy": "2025-04-13T02:32:56.314892Z",
     "iopub.status.idle": "2025-04-13T02:32:56.679950Z",
     "shell.execute_reply": "2025-04-13T02:32:56.679396Z"
    },
    "papermill": {
     "duration": 0.37189,
     "end_time": "2025-04-13T02:32:56.681384",
     "exception": false,
     "start_time": "2025-04-13T02:32:56.309494",
     "status": "completed"
    },
    "tags": []
   },
   "outputs": [],
   "source": [
    "df = pd.read_csv('/kaggle/input/techno/train.csv')\n",
    "val_df = pd.read_csv('/kaggle/input/techno/validation.csv')\n",
    "val_df.drop(\"lang\", axis=\"columns\", inplace=True)"
   ]
  },
  {
   "cell_type": "markdown",
   "id": "077e90cc",
   "metadata": {
    "papermill": {
     "duration": 0.004386,
     "end_time": "2025-04-13T02:32:56.690819",
     "exception": false,
     "start_time": "2025-04-13T02:32:56.686433",
     "status": "completed"
    },
    "tags": []
   },
   "source": [
    "## Exploratory Data Analysis"
   ]
  },
  {
   "cell_type": "code",
   "execution_count": 3,
   "id": "3be510a6",
   "metadata": {
    "execution": {
     "iopub.execute_input": "2025-04-13T02:32:56.700555Z",
     "iopub.status.busy": "2025-04-13T02:32:56.700319Z",
     "iopub.status.idle": "2025-04-13T02:32:56.933648Z",
     "shell.execute_reply": "2025-04-13T02:32:56.932988Z"
    },
    "papermill": {
     "duration": 0.239653,
     "end_time": "2025-04-13T02:32:56.934951",
     "exception": false,
     "start_time": "2025-04-13T02:32:56.695298",
     "status": "completed"
    },
    "tags": []
   },
   "outputs": [
    {
     "data": {
      "text/plain": [
       "<Axes: >"
      ]
     },
     "execution_count": 3,
     "metadata": {},
     "output_type": "execute_result"
    },
    {
     "data": {
      "image/png": "[encoded data removed]",
      "text/plain": [
       "<Figure size 640x480 with 1 Axes>"
      ]
     },
     "metadata": {},
     "output_type": "display_data"
    }
   ],
   "source": [
    "x = df.iloc[:, 2:].sum() # take only label columns\n",
    "x.plot(kind=\"bar\")"
   ]
  },
  {
   "cell_type": "code",
   "execution_count": 4,
   "id": "6158f66e",
   "metadata": {
    "execution": {
     "iopub.execute_input": "2025-04-13T02:32:56.946227Z",
     "iopub.status.busy": "2025-04-13T02:32:56.945767Z",
     "iopub.status.idle": "2025-04-13T02:32:56.954373Z",
     "shell.execute_reply": "2025-04-13T02:32:56.953797Z"
    },
    "papermill": {
     "duration": 0.015127,
     "end_time": "2025-04-13T02:32:56.955379",
     "exception": false,
     "start_time": "2025-04-13T02:32:56.940252",
     "status": "completed"
    },
    "tags": []
   },
   "outputs": [
    {
     "data": {
      "text/plain": [
       "0        0\n",
       "1        0\n",
       "2        0\n",
       "3        2\n",
       "4        0\n",
       "        ..\n",
       "23468    2\n",
       "23469    2\n",
       "23470    0\n",
       "23471    0\n",
       "23472    2\n",
       "Length: 23473, dtype: int64"
      ]
     },
     "execution_count": 4,
     "metadata": {},
     "output_type": "execute_result"
    }
   ],
   "source": [
    "rowsums = df.iloc[:, 2:].sum(axis=1) # take label columns and sum it column wise\n",
    "rowsums"
   ]
  },
  {
   "cell_type": "code",
   "execution_count": 5,
   "id": "ad8e8a81",
   "metadata": {
    "execution": {
     "iopub.execute_input": "2025-04-13T02:32:56.966159Z",
     "iopub.status.busy": "2025-04-13T02:32:56.965950Z",
     "iopub.status.idle": "2025-04-13T02:32:56.975920Z",
     "shell.execute_reply": "2025-04-13T02:32:56.975275Z"
    },
    "papermill": {
     "duration": 0.016647,
     "end_time": "2025-04-13T02:32:56.976998",
     "exception": false,
     "start_time": "2025-04-13T02:32:56.960351",
     "status": "completed"
    },
    "tags": []
   },
   "outputs": [
    {
     "name": "stdout",
     "output_type": "stream",
     "text": [
      "Total number of feedbacks: 23473\n",
      "Total number of feedbacks without labels: 21160\n",
      "Total labels: 5056\n"
     ]
    }
   ],
   "source": [
    "no_label_count = 0\n",
    "\n",
    "for i, count in rowsums.items():\n",
    "    if count==0:\n",
    "        no_label_count += 1\n",
    "        \n",
    "print('Total number of feedbacks:', len(df))\n",
    "print('Total number of feedbacks without labels:', no_label_count)\n",
    "print('Total labels:', x.sum())"
   ]
  },
  {
   "cell_type": "code",
   "execution_count": 6,
   "id": "2838c241",
   "metadata": {
    "execution": {
     "iopub.execute_input": "2025-04-13T02:32:56.987472Z",
     "iopub.status.busy": "2025-04-13T02:32:56.987288Z",
     "iopub.status.idle": "2025-04-13T02:32:57.113589Z",
     "shell.execute_reply": "2025-04-13T02:32:57.112955Z"
    },
    "papermill": {
     "duration": 0.132584,
     "end_time": "2025-04-13T02:32:57.114579",
     "exception": false,
     "start_time": "2025-04-13T02:32:56.981995",
     "status": "completed"
    },
    "tags": []
   },
   "outputs": [
    {
     "data": {
      "image/png": "[encoded data removed]",
      "text/plain": [
       "<Figure size 600x400 with 1 Axes>"
      ]
     },
     "metadata": {},
     "output_type": "display_data"
    }
   ],
   "source": [
    "plt.figure(figsize=(6, 4))\n",
    "ax = sns.barplot(x=x.index, y=x.values, alpha=0.8, palette=['tab:blue', 'tab:orange', 'tab:green', 'tab:brown', 'tab:red', 'tab:grey'])\n",
    "plt.title('Label Counts')\n",
    "plt.ylabel('Count')\n",
    "plt.xlabel('Label')\n",
    "\n",
    "plt.show()"
   ]
  },
  {
   "cell_type": "code",
   "execution_count": 7,
   "id": "b5d688be",
   "metadata": {
    "execution": {
     "iopub.execute_input": "2025-04-13T02:32:57.126166Z",
     "iopub.status.busy": "2025-04-13T02:32:57.125961Z",
     "iopub.status.idle": "2025-04-13T02:32:57.134682Z",
     "shell.execute_reply": "2025-04-13T02:32:57.133964Z"
    },
    "papermill": {
     "duration": 0.015364,
     "end_time": "2025-04-13T02:32:57.135714",
     "exception": false,
     "start_time": "2025-04-13T02:32:57.120350",
     "status": "completed"
    },
    "tags": []
   },
   "outputs": [
    {
     "name": "stdout",
     "output_type": "stream",
     "text": [
      "Missing values:\n",
      " id               0\n",
      "feedback_text    0\n",
      "toxic            0\n",
      "abusive          0\n",
      "vulgar           0\n",
      "menace           0\n",
      "offense          0\n",
      "bigotry          0\n",
      "dtype: int64\n"
     ]
    }
   ],
   "source": [
    "# Check for missing values\n",
    "missing = df.isnull().sum()\n",
    "print(\"Missing values:\\n\", missing)"
   ]
  },
  {
   "cell_type": "code",
   "execution_count": 8,
   "id": "e1ac336e",
   "metadata": {
    "execution": {
     "iopub.execute_input": "2025-04-13T02:32:57.146760Z",
     "iopub.status.busy": "2025-04-13T02:32:57.146550Z",
     "iopub.status.idle": "2025-04-13T02:32:57.159447Z",
     "shell.execute_reply": "2025-04-13T02:32:57.158753Z"
    },
    "papermill": {
     "duration": 0.019615,
     "end_time": "2025-04-13T02:32:57.160528",
     "exception": false,
     "start_time": "2025-04-13T02:32:57.140913",
     "status": "completed"
    },
    "tags": []
   },
   "outputs": [],
   "source": [
    "df['len'] = df['feedback_text'].str.len()"
   ]
  },
  {
   "cell_type": "code",
   "execution_count": 9,
   "id": "fa351c13",
   "metadata": {
    "execution": {
     "iopub.execute_input": "2025-04-13T02:32:57.172435Z",
     "iopub.status.busy": "2025-04-13T02:32:57.171796Z",
     "iopub.status.idle": "2025-04-13T02:32:57.180299Z",
     "shell.execute_reply": "2025-04-13T02:32:57.179686Z"
    },
    "papermill": {
     "duration": 0.015655,
     "end_time": "2025-04-13T02:32:57.181381",
     "exception": false,
     "start_time": "2025-04-13T02:32:57.165726",
     "status": "completed"
    },
    "tags": []
   },
   "outputs": [
    {
     "data": {
      "text/plain": [
       "count    23473.000000\n",
       "mean       402.029736\n",
       "std        617.165581\n",
       "min          6.000000\n",
       "25%         94.000000\n",
       "50%        204.000000\n",
       "75%        437.000000\n",
       "max       5000.000000\n",
       "Name: len, dtype: float64"
      ]
     },
     "execution_count": 9,
     "metadata": {},
     "output_type": "execute_result"
    }
   ],
   "source": [
    "df['len'].describe()"
   ]
  },
  {
   "cell_type": "code",
   "execution_count": 10,
   "id": "12e2b27f",
   "metadata": {
    "execution": {
     "iopub.execute_input": "2025-04-13T02:32:57.193000Z",
     "iopub.status.busy": "2025-04-13T02:32:57.192442Z",
     "iopub.status.idle": "2025-04-13T02:32:57.753988Z",
     "shell.execute_reply": "2025-04-13T02:32:57.753315Z"
    },
    "papermill": {
     "duration": 0.56831,
     "end_time": "2025-04-13T02:32:57.755137",
     "exception": false,
     "start_time": "2025-04-13T02:32:57.186827",
     "status": "completed"
    },
    "tags": []
   },
   "outputs": [
    {
     "data": {
      "text/plain": [
       "<Axes: ylabel='Density'>"
      ]
     },
     "execution_count": 10,
     "metadata": {},
     "output_type": "execute_result"
    },
    {
     "data": {
      "image/png": "[encoded data removed]",
      "text/plain": [
       "<Figure size 640x480 with 1 Axes>"
      ]
     },
     "metadata": {},
     "output_type": "display_data"
    }
   ],
   "source": [
    "df['feedback_text'].str.len().plot(kind=\"kde\")"
   ]
  },
  {
   "cell_type": "markdown",
   "id": "dd2315a9",
   "metadata": {
    "papermill": {
     "duration": 0.005782,
     "end_time": "2025-04-13T02:32:57.766982",
     "exception": false,
     "start_time": "2025-04-13T02:32:57.761200",
     "status": "completed"
    },
    "tags": []
   },
   "source": [
    "## Data Preprocessing"
   ]
  },
  {
   "cell_type": "code",
   "execution_count": 11,
   "id": "64bd12ff",
   "metadata": {
    "execution": {
     "iopub.execute_input": "2025-04-13T02:32:57.779140Z",
     "iopub.status.busy": "2025-04-13T02:32:57.778910Z",
     "iopub.status.idle": "2025-04-13T02:32:57.795455Z",
     "shell.execute_reply": "2025-04-13T02:32:57.794789Z"
    },
    "papermill": {
     "duration": 0.023886,
     "end_time": "2025-04-13T02:32:57.796588",
     "exception": false,
     "start_time": "2025-04-13T02:32:57.772702",
     "status": "completed"
    },
    "tags": []
   },
   "outputs": [
    {
     "data": {
      "text/html": [
       "<div>\n",
       "<style scoped>\n",
       "    .dataframe tbody tr th:only-of-type {\n",
       "        vertical-align: middle;\n",
       "    }\n",
       "\n",
       "    .dataframe tbody tr th {\n",
       "        vertical-align: top;\n",
       "    }\n",
       "\n",
       "    .dataframe thead th {\n",
       "        text-align: right;\n",
       "    }\n",
       "</style>\n",
       "<table border=\"1\" class=\"dataframe\">\n",
       "  <thead>\n",
       "    <tr style=\"text-align: right;\">\n",
       "      <th></th>\n",
       "      <th>feedback_text</th>\n",
       "      <th>toxic</th>\n",
       "      <th>abusive</th>\n",
       "      <th>vulgar</th>\n",
       "      <th>menace</th>\n",
       "      <th>offense</th>\n",
       "      <th>bigotry</th>\n",
       "    </tr>\n",
       "  </thead>\n",
       "  <tbody>\n",
       "    <tr>\n",
       "      <th>0</th>\n",
       "      <td>:::Sounds good.  Let me know when you're done ...</td>\n",
       "      <td>0</td>\n",
       "      <td>0</td>\n",
       "      <td>0</td>\n",
       "      <td>0</td>\n",
       "      <td>0</td>\n",
       "      <td>0</td>\n",
       "    </tr>\n",
       "    <tr>\n",
       "      <th>1</th>\n",
       "      <td>\"\\nI say something, but it didn't actually con...</td>\n",
       "      <td>0</td>\n",
       "      <td>0</td>\n",
       "      <td>0</td>\n",
       "      <td>0</td>\n",
       "      <td>0</td>\n",
       "      <td>0</td>\n",
       "    </tr>\n",
       "    <tr>\n",
       "      <th>2</th>\n",
       "      <td>\"Agustina Barrientos]] \\n | Modelo de Piñeiro ...</td>\n",
       "      <td>0</td>\n",
       "      <td>0</td>\n",
       "      <td>0</td>\n",
       "      <td>0</td>\n",
       "      <td>0</td>\n",
       "      <td>0</td>\n",
       "    </tr>\n",
       "    <tr>\n",
       "      <th>3</th>\n",
       "      <td>FYI I enjoy licking strangers scrotal sacks......</td>\n",
       "      <td>1</td>\n",
       "      <td>0</td>\n",
       "      <td>1</td>\n",
       "      <td>0</td>\n",
       "      <td>0</td>\n",
       "      <td>0</td>\n",
       "    </tr>\n",
       "    <tr>\n",
       "      <th>4</th>\n",
       "      <td>How do you get a site?\\nMany penguins have ask...</td>\n",
       "      <td>0</td>\n",
       "      <td>0</td>\n",
       "      <td>0</td>\n",
       "      <td>0</td>\n",
       "      <td>0</td>\n",
       "      <td>0</td>\n",
       "    </tr>\n",
       "  </tbody>\n",
       "</table>\n",
       "</div>"
      ],
      "text/plain": [
       "                                       feedback_text  toxic  abusive  vulgar  \\\n",
       "0  :::Sounds good.  Let me know when you're done ...      0        0       0   \n",
       "1  \"\\nI say something, but it didn't actually con...      0        0       0   \n",
       "2  \"Agustina Barrientos]] \\n | Modelo de Piñeiro ...      0        0       0   \n",
       "3  FYI I enjoy licking strangers scrotal sacks......      1        0       1   \n",
       "4  How do you get a site?\\nMany penguins have ask...      0        0       0   \n",
       "\n",
       "   menace  offense  bigotry  \n",
       "0       0        0        0  \n",
       "1       0        0        0  \n",
       "2       0        0        0  \n",
       "3       0        0        0  \n",
       "4       0        0        0  "
      ]
     },
     "execution_count": 11,
     "metadata": {},
     "output_type": "execute_result"
    }
   ],
   "source": [
    "df = df.drop(columns=['id', 'len'], axis=1)\n",
    "df.head()"
   ]
  },
  {
   "cell_type": "code",
   "execution_count": 12,
   "id": "db6cd324",
   "metadata": {
    "execution": {
     "iopub.execute_input": "2025-04-13T02:32:57.809520Z",
     "iopub.status.busy": "2025-04-13T02:32:57.809310Z",
     "iopub.status.idle": "2025-04-13T02:32:57.817515Z",
     "shell.execute_reply": "2025-04-13T02:32:57.817021Z"
    },
    "papermill": {
     "duration": 0.015914,
     "end_time": "2025-04-13T02:32:57.818527",
     "exception": false,
     "start_time": "2025-04-13T02:32:57.802613",
     "status": "completed"
    },
    "tags": []
   },
   "outputs": [],
   "source": [
    "# remove stopwords\n",
    "stop_words = list(stopwords.words(\"english\"))\n",
    "\n",
    "def remove_stopwords(text):\n",
    "    no_stopword_text = [w for w in text.split() if not w in stop_words]\n",
    "    return \" \".join(no_stopword_text)\n",
    "\n",
    "def clean_text(text):\n",
    "    text = text.lower()\n",
    "    text = re.sub(r\"what's\", \"what is \", text)\n",
    "    text = re.sub(r\"\\'s\", \" \", text)\n",
    "    text = re.sub(r\"\\'ve\", \" have \", text)\n",
    "    text = re.sub(r\"can't\", \"can not \", text)\n",
    "    text = re.sub(r\"n't\", \" not \", text)\n",
    "    text = re.sub(r\"i'm\", \"i am \", text)\n",
    "    text = re.sub(r\"\\'re\", \" are \", text)\n",
    "    text = re.sub(r\"\\'d\", \" would \", text)\n",
    "    text = re.sub(r\"\\'ll\", \" will \", text)\n",
    "    text = re.sub(r\"\\'scuse\", \" excuse \", text)\n",
    "    text = re.sub('\\W', ' ', text)\n",
    "    text = re.sub('\\s+', ' ', text)\n",
    "    text = text.strip(' ')\n",
    "    return text\n",
    "\n",
    "# stemming\n",
    "stemmer = SnowballStemmer('english')\n",
    "def stemming(sentence):\n",
    "    stemmed_sentence = \"\"\n",
    "    for word in sentence.split():\n",
    "        stemmed_word = stemmer.stem(word)\n",
    "        stemmed_sentence += stemmed_word + \" \"\n",
    "        \n",
    "    stemmed_sentence = stemmed_sentence.strip()\n",
    "    return stemmed_sentence"
   ]
  },
  {
   "cell_type": "code",
   "execution_count": 13,
   "id": "50557290",
   "metadata": {
    "execution": {
     "iopub.execute_input": "2025-04-13T02:32:57.831303Z",
     "iopub.status.busy": "2025-04-13T02:32:57.831073Z",
     "iopub.status.idle": "2025-04-13T02:33:09.852472Z",
     "shell.execute_reply": "2025-04-13T02:33:09.851806Z"
    },
    "papermill": {
     "duration": 12.029007,
     "end_time": "2025-04-13T02:33:09.853595",
     "exception": false,
     "start_time": "2025-04-13T02:32:57.824588",
     "status": "completed"
    },
    "tags": []
   },
   "outputs": [
    {
     "data": {
      "text/html": [
       "<div>\n",
       "<style scoped>\n",
       "    .dataframe tbody tr th:only-of-type {\n",
       "        vertical-align: middle;\n",
       "    }\n",
       "\n",
       "    .dataframe tbody tr th {\n",
       "        vertical-align: top;\n",
       "    }\n",
       "\n",
       "    .dataframe thead th {\n",
       "        text-align: right;\n",
       "    }\n",
       "</style>\n",
       "<table border=\"1\" class=\"dataframe\">\n",
       "  <thead>\n",
       "    <tr style=\"text-align: right;\">\n",
       "      <th></th>\n",
       "      <th>feedback_text</th>\n",
       "      <th>toxic</th>\n",
       "      <th>abusive</th>\n",
       "      <th>vulgar</th>\n",
       "      <th>menace</th>\n",
       "      <th>offense</th>\n",
       "      <th>bigotry</th>\n",
       "    </tr>\n",
       "  </thead>\n",
       "  <tbody>\n",
       "    <tr>\n",
       "      <th>0</th>\n",
       "      <td>sound good let know done i will start pr</td>\n",
       "      <td>0</td>\n",
       "      <td>0</td>\n",
       "      <td>0</td>\n",
       "      <td>0</td>\n",
       "      <td>0</td>\n",
       "      <td>0</td>\n",
       "    </tr>\n",
       "    <tr>\n",
       "      <th>1</th>\n",
       "      <td>i say someth actual confirm anyth put articl p...</td>\n",
       "      <td>0</td>\n",
       "      <td>0</td>\n",
       "      <td>0</td>\n",
       "      <td>0</td>\n",
       "      <td>0</td>\n",
       "      <td>0</td>\n",
       "    </tr>\n",
       "    <tr>\n",
       "      <th>2</th>\n",
       "      <td>agustina barriento modelo de piñeiro juán cruz...</td>\n",
       "      <td>0</td>\n",
       "      <td>0</td>\n",
       "      <td>0</td>\n",
       "      <td>0</td>\n",
       "      <td>0</td>\n",
       "      <td>0</td>\n",
       "    </tr>\n",
       "    <tr>\n",
       "      <th>3</th>\n",
       "      <td>fyi i enjoy lick stranger scrotal sack especi ...</td>\n",
       "      <td>1</td>\n",
       "      <td>0</td>\n",
       "      <td>1</td>\n",
       "      <td>0</td>\n",
       "      <td>0</td>\n",
       "      <td>0</td>\n",
       "    </tr>\n",
       "    <tr>\n",
       "      <th>4</th>\n",
       "      <td>how get site mani penguin ask question it simp...</td>\n",
       "      <td>0</td>\n",
       "      <td>0</td>\n",
       "      <td>0</td>\n",
       "      <td>0</td>\n",
       "      <td>0</td>\n",
       "      <td>0</td>\n",
       "    </tr>\n",
       "  </tbody>\n",
       "</table>\n",
       "</div>"
      ],
      "text/plain": [
       "                                       feedback_text  toxic  abusive  vulgar  \\\n",
       "0           sound good let know done i will start pr      0        0       0   \n",
       "1  i say someth actual confirm anyth put articl p...      0        0       0   \n",
       "2  agustina barriento modelo de piñeiro juán cruz...      0        0       0   \n",
       "3  fyi i enjoy lick stranger scrotal sack especi ...      1        0       1   \n",
       "4  how get site mani penguin ask question it simp...      0        0       0   \n",
       "\n",
       "   menace  offense  bigotry  \n",
       "0       0        0        0  \n",
       "1       0        0        0  \n",
       "2       0        0        0  \n",
       "3       0        0        0  \n",
       "4       0        0        0  "
      ]
     },
     "execution_count": 13,
     "metadata": {},
     "output_type": "execute_result"
    }
   ],
   "source": [
    "# preprocess the comment\n",
    "df['feedback_text'] = df['feedback_text'].apply(lambda x: remove_stopwords(x))\n",
    "df['feedback_text'] = df['feedback_text'].apply(lambda x: clean_text(x))\n",
    "df['feedback_text'] = df['feedback_text'].apply(lambda x: stemming(x))\n",
    "df.head()"
   ]
  },
  {
   "cell_type": "code",
   "execution_count": 14,
   "id": "ca354987",
   "metadata": {
    "execution": {
     "iopub.execute_input": "2025-04-13T02:33:09.867025Z",
     "iopub.status.busy": "2025-04-13T02:33:09.866462Z",
     "iopub.status.idle": "2025-04-13T02:33:09.870741Z",
     "shell.execute_reply": "2025-04-13T02:33:09.870257Z"
    },
    "papermill": {
     "duration": 0.011746,
     "end_time": "2025-04-13T02:33:09.871679",
     "exception": false,
     "start_time": "2025-04-13T02:33:09.859933",
     "status": "completed"
    },
    "tags": []
   },
   "outputs": [],
   "source": [
    "# split input and output\n",
    "X = df['feedback_text']\n",
    "y = df.drop(columns=['feedback_text'], axis=1)"
   ]
  },
  {
   "cell_type": "code",
   "execution_count": 15,
   "id": "b080b47a",
   "metadata": {
    "execution": {
     "iopub.execute_input": "2025-04-13T02:33:09.884723Z",
     "iopub.status.busy": "2025-04-13T02:33:09.884352Z",
     "iopub.status.idle": "2025-04-13T02:33:09.892077Z",
     "shell.execute_reply": "2025-04-13T02:33:09.891592Z"
    },
    "papermill": {
     "duration": 0.015146,
     "end_time": "2025-04-13T02:33:09.893029",
     "exception": false,
     "start_time": "2025-04-13T02:33:09.877883",
     "status": "completed"
    },
    "tags": []
   },
   "outputs": [],
   "source": [
    "# split data for training and testing\n",
    "X_train, X_test, y_train, y_test = train_test_split(X, y, test_size=0.2, random_state=42)"
   ]
  },
  {
   "cell_type": "code",
   "execution_count": 16,
   "id": "492f4afd",
   "metadata": {
    "execution": {
     "iopub.execute_input": "2025-04-13T02:33:09.905812Z",
     "iopub.status.busy": "2025-04-13T02:33:09.905597Z",
     "iopub.status.idle": "2025-04-13T02:33:09.909552Z",
     "shell.execute_reply": "2025-04-13T02:33:09.909052Z"
    },
    "papermill": {
     "duration": 0.011441,
     "end_time": "2025-04-13T02:33:09.910665",
     "exception": false,
     "start_time": "2025-04-13T02:33:09.899224",
     "status": "completed"
    },
    "tags": []
   },
   "outputs": [],
   "source": [
    "def run_pipeline(pipeline, X_train, X_test, y_train, y_test):\n",
    "    # train model\n",
    "    pipeline.fit(X_train, y_train)\n",
    "    # predict from model\n",
    "    predictions = pipeline.predict(X_test)\n",
    "    pred_probs = pipeline.predict_proba(X_test)\n",
    "    # print metrics\n",
    "    print('roc_auc:', roc_auc_score(y_test, pred_probs))\n",
    "    print('accuracy:', accuracy_score(y_test, predictions))\n",
    "    print('classification report')\n",
    "    print(classification_report(y_test, predictions, target_names=y_train.columns))"
   ]
  },
  {
   "cell_type": "code",
   "execution_count": 17,
   "id": "522f5865",
   "metadata": {
    "execution": {
     "iopub.execute_input": "2025-04-13T02:33:09.923283Z",
     "iopub.status.busy": "2025-04-13T02:33:09.923069Z",
     "iopub.status.idle": "2025-04-13T02:33:09.926890Z",
     "shell.execute_reply": "2025-04-13T02:33:09.926267Z"
    },
    "papermill": {
     "duration": 0.011195,
     "end_time": "2025-04-13T02:33:09.927864",
     "exception": false,
     "start_time": "2025-04-13T02:33:09.916669",
     "status": "completed"
    },
    "tags": []
   },
   "outputs": [],
   "source": [
    "NB_pipeline = Pipeline([\n",
    "    ('tfidf', TfidfVectorizer(stop_words='english')),\n",
    "    ('nb_model', OneVsRestClassifier(MultinomialNB(), n_jobs=-1))\n",
    "])\n",
    "\n",
    "LR_pipeline = Pipeline([\n",
    "    ('tfidf', TfidfVectorizer(stop_words='english')),\n",
    "    ('nb_model', OneVsRestClassifier(LogisticRegression(), n_jobs=-1))\n",
    "])"
   ]
  },
  {
   "cell_type": "code",
   "execution_count": 18,
   "id": "ee5f3a93",
   "metadata": {
    "execution": {
     "iopub.execute_input": "2025-04-13T02:33:09.940552Z",
     "iopub.status.busy": "2025-04-13T02:33:09.940358Z",
     "iopub.status.idle": "2025-04-13T02:33:12.114816Z",
     "shell.execute_reply": "2025-04-13T02:33:12.113856Z"
    },
    "papermill": {
     "duration": 2.182235,
     "end_time": "2025-04-13T02:33:12.116177",
     "exception": false,
     "start_time": "2025-04-13T02:33:09.933942",
     "status": "completed"
    },
    "tags": []
   },
   "outputs": [
    {
     "name": "stdout",
     "output_type": "stream",
     "text": [
      "roc_auc: 0.8184173170907623\n",
      "accuracy: 0.9024494142705005\n",
      "classification report\n",
      "              precision    recall  f1-score   support\n",
      "\n",
      "       toxic       0.93      0.06      0.12       431\n",
      "     abusive       0.00      0.00      0.00        32\n",
      "      vulgar       0.83      0.04      0.08       249\n",
      "      menace       0.00      0.00      0.00        20\n",
      "     offense       0.33      0.00      0.01       230\n",
      "     bigotry       0.00      0.00      0.00        38\n",
      "\n",
      "   micro avg       0.86      0.04      0.07      1000\n",
      "   macro avg       0.35      0.02      0.03      1000\n",
      "weighted avg       0.69      0.04      0.07      1000\n",
      " samples avg       0.01      0.00      0.00      1000\n",
      "\n"
     ]
    }
   ],
   "source": [
    "run_pipeline(NB_pipeline, X_train, X_test, y_train, y_test)"
   ]
  },
  {
   "cell_type": "code",
   "execution_count": 19,
   "id": "744c2039",
   "metadata": {
    "execution": {
     "iopub.execute_input": "2025-04-13T02:33:12.129776Z",
     "iopub.status.busy": "2025-04-13T02:33:12.129545Z",
     "iopub.status.idle": "2025-04-13T02:33:14.074608Z",
     "shell.execute_reply": "2025-04-13T02:33:14.073732Z"
    },
    "papermill": {
     "duration": 1.953786,
     "end_time": "2025-04-13T02:33:14.076425",
     "exception": false,
     "start_time": "2025-04-13T02:33:12.122639",
     "status": "completed"
    },
    "tags": []
   },
   "outputs": [
    {
     "name": "stdout",
     "output_type": "stream",
     "text": [
      "roc_auc: 0.9635711433381272\n",
      "accuracy: 0.9122470713525027\n",
      "classification report\n",
      "              precision    recall  f1-score   support\n",
      "\n",
      "       toxic       0.91      0.42      0.58       431\n",
      "     abusive       0.36      0.12      0.19        32\n",
      "      vulgar       0.90      0.46      0.61       249\n",
      "      menace       0.00      0.00      0.00        20\n",
      "     offense       0.83      0.34      0.49       230\n",
      "     bigotry       0.25      0.03      0.05        38\n",
      "\n",
      "   micro avg       0.87      0.38      0.53      1000\n",
      "   macro avg       0.54      0.23      0.32      1000\n",
      "weighted avg       0.83      0.38      0.52      1000\n",
      " samples avg       0.04      0.03      0.03      1000\n",
      "\n"
     ]
    }
   ],
   "source": [
    "run_pipeline(LR_pipeline, X_train, X_test, y_train, y_test)"
   ]
  },
  {
   "cell_type": "markdown",
   "id": "e33f8bd2",
   "metadata": {
    "papermill": {
     "duration": 0.006099,
     "end_time": "2025-04-13T02:33:14.090182",
     "exception": false,
     "start_time": "2025-04-13T02:33:14.084083",
     "status": "completed"
    },
    "tags": []
   },
   "source": [
    "# Tuning"
   ]
  },
  {
   "cell_type": "code",
   "execution_count": 20,
   "id": "259a4c0e",
   "metadata": {
    "execution": {
     "iopub.execute_input": "2025-04-13T02:33:14.104586Z",
     "iopub.status.busy": "2025-04-13T02:33:14.104329Z",
     "iopub.status.idle": "2025-04-13T02:33:32.969566Z",
     "shell.execute_reply": "2025-04-13T02:33:32.968656Z"
    },
    "papermill": {
     "duration": 18.874543,
     "end_time": "2025-04-13T02:33:32.971160",
     "exception": false,
     "start_time": "2025-04-13T02:33:14.096617",
     "status": "completed"
    },
    "tags": []
   },
   "outputs": [
    {
     "name": "stdout",
     "output_type": "stream",
     "text": [
      "========1=========\n",
      "Model: LogisticRegression - Default\n",
      "Accuracy: 0.9109, Precision: 0.8778, Recall: 0.3593, F1: 0.5040\n",
      "              precision    recall  f1-score   support\n",
      "\n",
      "       toxic       0.94      0.39      0.55       271\n",
      "     abusive       1.00      0.11      0.20        18\n",
      "      vulgar       0.91      0.45      0.60       150\n",
      "      menace       0.00      0.00      0.00         9\n",
      "     offense       0.84      0.31      0.46       131\n",
      "     bigotry       0.50      0.04      0.07        25\n",
      "\n",
      "   micro avg       0.90      0.36      0.51       604\n",
      "   macro avg       0.70      0.22      0.31       604\n",
      "weighted avg       0.88      0.36      0.50       604\n",
      " samples avg       0.04      0.03      0.03       604\n",
      "\n",
      "Model: LogisticRegression - Tuned with {'solver': 'lbfgs'}\n",
      "Accuracy: 0.9109, Precision: 0.8778, Recall: 0.3593, F1: 0.5040\n",
      "              precision    recall  f1-score   support\n",
      "\n",
      "       toxic       0.94      0.39      0.55       271\n",
      "     abusive       1.00      0.11      0.20        18\n",
      "      vulgar       0.91      0.45      0.60       150\n",
      "      menace       0.00      0.00      0.00         9\n",
      "     offense       0.84      0.31      0.46       131\n",
      "     bigotry       0.50      0.04      0.07        25\n",
      "\n",
      "   micro avg       0.90      0.36      0.51       604\n",
      "   macro avg       0.70      0.22      0.31       604\n",
      "weighted avg       0.88      0.36      0.50       604\n",
      " samples avg       0.04      0.03      0.03       604\n",
      "\n",
      "Model: LogisticRegression - Tuned with {'solver': 'liblinear'}\n",
      "Accuracy: 0.9109, Precision: 0.8778, Recall: 0.3593, F1: 0.5040\n",
      "              precision    recall  f1-score   support\n",
      "\n",
      "       toxic       0.94      0.39      0.55       271\n",
      "     abusive       1.00      0.11      0.20        18\n",
      "      vulgar       0.91      0.45      0.60       150\n",
      "      menace       0.00      0.00      0.00         9\n",
      "     offense       0.84      0.31      0.46       131\n",
      "     bigotry       0.50      0.04      0.07        25\n",
      "\n",
      "   micro avg       0.90      0.36      0.51       604\n",
      "   macro avg       0.70      0.22      0.31       604\n",
      "weighted avg       0.88      0.36      0.50       604\n",
      " samples avg       0.04      0.03      0.03       604\n",
      "\n",
      "Model: LogisticRegression - Tuned with {'solver': 'newton-cg'}\n",
      "Accuracy: 0.9109, Precision: 0.8778, Recall: 0.3593, F1: 0.5040\n",
      "              precision    recall  f1-score   support\n",
      "\n",
      "       toxic       0.94      0.39      0.55       271\n",
      "     abusive       1.00      0.11      0.20        18\n",
      "      vulgar       0.91      0.45      0.60       150\n",
      "      menace       0.00      0.00      0.00         9\n",
      "     offense       0.84      0.31      0.46       131\n",
      "     bigotry       0.50      0.04      0.07        25\n",
      "\n",
      "   micro avg       0.90      0.36      0.51       604\n",
      "   macro avg       0.70      0.22      0.31       604\n",
      "weighted avg       0.88      0.36      0.50       604\n",
      " samples avg       0.04      0.03      0.03       604\n",
      "\n",
      "Model: LogisticRegression - Tuned with {'solver': 'newton-cholesky'}\n",
      "Accuracy: 0.9109, Precision: 0.8778, Recall: 0.3593, F1: 0.5040\n",
      "              precision    recall  f1-score   support\n",
      "\n",
      "       toxic       0.94      0.39      0.55       271\n",
      "     abusive       1.00      0.11      0.20        18\n",
      "      vulgar       0.91      0.45      0.60       150\n",
      "      menace       0.00      0.00      0.00         9\n",
      "     offense       0.84      0.31      0.46       131\n",
      "     bigotry       0.50      0.04      0.07        25\n",
      "\n",
      "   micro avg       0.90      0.36      0.51       604\n",
      "   macro avg       0.70      0.22      0.31       604\n",
      "weighted avg       0.88      0.36      0.50       604\n",
      " samples avg       0.04      0.03      0.03       604\n",
      "\n",
      "Model: LogisticRegression - Tuned with {'solver': 'sag'}\n",
      "Accuracy: 0.9109, Precision: 0.8778, Recall: 0.3593, F1: 0.5040\n",
      "              precision    recall  f1-score   support\n",
      "\n",
      "       toxic       0.94      0.39      0.55       271\n",
      "     abusive       1.00      0.11      0.20        18\n",
      "      vulgar       0.91      0.45      0.60       150\n",
      "      menace       0.00      0.00      0.00         9\n",
      "     offense       0.84      0.31      0.46       131\n",
      "     bigotry       0.50      0.04      0.07        25\n",
      "\n",
      "   micro avg       0.90      0.36      0.51       604\n",
      "   macro avg       0.70      0.22      0.31       604\n",
      "weighted avg       0.88      0.36      0.50       604\n",
      " samples avg       0.04      0.03      0.03       604\n",
      "\n",
      "Model: LogisticRegression - Tuned with {'solver': 'saga'}\n",
      "Accuracy: 0.9109, Precision: 0.8778, Recall: 0.3593, F1: 0.5040\n",
      "              precision    recall  f1-score   support\n",
      "\n",
      "       toxic       0.94      0.39      0.55       271\n",
      "     abusive       1.00      0.11      0.20        18\n",
      "      vulgar       0.91      0.45      0.60       150\n",
      "      menace       0.00      0.00      0.00         9\n",
      "     offense       0.84      0.31      0.46       131\n",
      "     bigotry       0.50      0.04      0.07        25\n",
      "\n",
      "   micro avg       0.90      0.36      0.51       604\n",
      "   macro avg       0.70      0.22      0.31       604\n",
      "weighted avg       0.88      0.36      0.50       604\n",
      " samples avg       0.04      0.03      0.03       604\n",
      "\n",
      "Model: LogisticRegression - Tuned with {'max_iter': 50}\n",
      "Accuracy: 0.9109, Precision: 0.8778, Recall: 0.3593, F1: 0.5040\n",
      "              precision    recall  f1-score   support\n",
      "\n",
      "       toxic       0.94      0.39      0.55       271\n",
      "     abusive       1.00      0.11      0.20        18\n",
      "      vulgar       0.91      0.45      0.60       150\n",
      "      menace       0.00      0.00      0.00         9\n",
      "     offense       0.84      0.31      0.46       131\n",
      "     bigotry       0.50      0.04      0.07        25\n",
      "\n",
      "   micro avg       0.90      0.36      0.51       604\n",
      "   macro avg       0.70      0.22      0.31       604\n",
      "weighted avg       0.88      0.36      0.50       604\n",
      " samples avg       0.04      0.03      0.03       604\n",
      "\n",
      "Model: LogisticRegression - Tuned with {'max_iter': 100}\n",
      "Accuracy: 0.9109, Precision: 0.8778, Recall: 0.3593, F1: 0.5040\n",
      "              precision    recall  f1-score   support\n",
      "\n",
      "       toxic       0.94      0.39      0.55       271\n",
      "     abusive       1.00      0.11      0.20        18\n",
      "      vulgar       0.91      0.45      0.60       150\n",
      "      menace       0.00      0.00      0.00         9\n",
      "     offense       0.84      0.31      0.46       131\n",
      "     bigotry       0.50      0.04      0.07        25\n",
      "\n",
      "   micro avg       0.90      0.36      0.51       604\n",
      "   macro avg       0.70      0.22      0.31       604\n",
      "weighted avg       0.88      0.36      0.50       604\n",
      " samples avg       0.04      0.03      0.03       604\n",
      "\n",
      "Model: LogisticRegression - Tuned with {'max_iter': 150}\n",
      "Accuracy: 0.9109, Precision: 0.8778, Recall: 0.3593, F1: 0.5040\n",
      "              precision    recall  f1-score   support\n",
      "\n",
      "       toxic       0.94      0.39      0.55       271\n",
      "     abusive       1.00      0.11      0.20        18\n",
      "      vulgar       0.91      0.45      0.60       150\n",
      "      menace       0.00      0.00      0.00         9\n",
      "     offense       0.84      0.31      0.46       131\n",
      "     bigotry       0.50      0.04      0.07        25\n",
      "\n",
      "   micro avg       0.90      0.36      0.51       604\n",
      "   macro avg       0.70      0.22      0.31       604\n",
      "weighted avg       0.88      0.36      0.50       604\n",
      " samples avg       0.04      0.03      0.03       604\n",
      "\n",
      "Model: LogisticRegression - Tuned with {'max_iter': 200}\n",
      "Accuracy: 0.9109, Precision: 0.8778, Recall: 0.3593, F1: 0.5040\n",
      "              precision    recall  f1-score   support\n",
      "\n",
      "       toxic       0.94      0.39      0.55       271\n",
      "     abusive       1.00      0.11      0.20        18\n",
      "      vulgar       0.91      0.45      0.60       150\n",
      "      menace       0.00      0.00      0.00         9\n",
      "     offense       0.84      0.31      0.46       131\n",
      "     bigotry       0.50      0.04      0.07        25\n",
      "\n",
      "   micro avg       0.90      0.36      0.51       604\n",
      "   macro avg       0.70      0.22      0.31       604\n",
      "weighted avg       0.88      0.36      0.50       604\n",
      " samples avg       0.04      0.03      0.03       604\n",
      "\n",
      "Model: LogisticRegression - Tuned with {'max_iter': 250}\n",
      "Accuracy: 0.9109, Precision: 0.8778, Recall: 0.3593, F1: 0.5040\n",
      "              precision    recall  f1-score   support\n",
      "\n",
      "       toxic       0.94      0.39      0.55       271\n",
      "     abusive       1.00      0.11      0.20        18\n",
      "      vulgar       0.91      0.45      0.60       150\n",
      "      menace       0.00      0.00      0.00         9\n",
      "     offense       0.84      0.31      0.46       131\n",
      "     bigotry       0.50      0.04      0.07        25\n",
      "\n",
      "   micro avg       0.90      0.36      0.51       604\n",
      "   macro avg       0.70      0.22      0.31       604\n",
      "weighted avg       0.88      0.36      0.50       604\n",
      " samples avg       0.04      0.03      0.03       604\n",
      "\n",
      "Model: LogisticRegression - Tuned with {'max_iter': 300}\n",
      "Accuracy: 0.9109, Precision: 0.8778, Recall: 0.3593, F1: 0.5040\n",
      "              precision    recall  f1-score   support\n",
      "\n",
      "       toxic       0.94      0.39      0.55       271\n",
      "     abusive       1.00      0.11      0.20        18\n",
      "      vulgar       0.91      0.45      0.60       150\n",
      "      menace       0.00      0.00      0.00         9\n",
      "     offense       0.84      0.31      0.46       131\n",
      "     bigotry       0.50      0.04      0.07        25\n",
      "\n",
      "   micro avg       0.90      0.36      0.51       604\n",
      "   macro avg       0.70      0.22      0.31       604\n",
      "weighted avg       0.88      0.36      0.50       604\n",
      " samples avg       0.04      0.03      0.03       604\n",
      "\n"
     ]
    }
   ],
   "source": [
    "import pandas as pd\n",
    "import matplotlib.pyplot as plt\n",
    "from sklearn.model_selection import train_test_split\n",
    "from sklearn.metrics import accuracy_score, confusion_matrix, precision_score, recall_score, f1_score\n",
    "from sklearn.tree import DecisionTreeClassifier\n",
    "from sklearn.svm import SVC\n",
    "from sklearn.ensemble import RandomForestClassifier\n",
    "import xgboost as xgb\n",
    "from sklearn.linear_model import LogisticRegression\n",
    "\n",
    "def plot_solver_iter(X_og, y_og):\n",
    "    X_train_i, X_test_i, y_train_i, y_test_i = train_test_split(\n",
    "        X_og, \n",
    "        y_og,\n",
    "        test_size=0.15,\n",
    "        shuffle=True,\n",
    "    )\n",
    "\n",
    "    # Initialize empty dataframes to store the results\n",
    "    default_results_df = pd.DataFrame(columns=[\"Model\", \"Target\", \"Accuracy\", \"Precision\", \"Recall\", \"F1 Score\"])\n",
    "    tuned_results_df = pd.DataFrame(columns=[\"Model\", \"Target\", \"Parameters\", \"Accuracy\", \"Precision\", \"Recall\", \"F1 Score\"])\n",
    "\n",
    "    # Define models and their hyperparameters\n",
    "    models = {\n",
    "        \"LogisticRegression\": [Pipeline([\n",
    "            ('tfidf', TfidfVectorizer(stop_words='english')),\n",
    "            ('nb_model', OneVsRestClassifier(LogisticRegression(), n_jobs=-1))\n",
    "        ])]\n",
    "    }\n",
    "\n",
    "    tuned_models = {\n",
    "        \"LogisticRegression\": [\n",
    "            {\"solver\": 'lbfgs'}, \n",
    "            {\"solver\": 'liblinear'}, \n",
    "            {\"solver\": 'newton-cg'}, \n",
    "            {\"solver\": 'newton-cholesky'}, \n",
    "            {\"solver\": 'sag'}, \n",
    "            {\"solver\": 'saga'},\n",
    "            {\"max_iter\": 50}, \n",
    "            {\"max_iter\": 100},\n",
    "            {\"max_iter\": 150}, \n",
    "            {\"max_iter\": 200}, \n",
    "            {\"max_iter\": 250},\n",
    "            {\"max_iter\": 300}, \n",
    "        ]\n",
    "    }\n",
    "\n",
    "    # Loop through targets\n",
    "    for target in [1]:\n",
    "        print(f\"========{target}=========\")\n",
    "        \n",
    "        # Benchmark Default Models (no parameters)\n",
    "        for model_name, model_list in models.items():\n",
    "            for model in model_list:\n",
    "                X_train = X_train_i\n",
    "                y_train = y_train_i\n",
    "                X_test = X_test_i\n",
    "                y_test = y_test_i\n",
    "\n",
    "                # Train the model\n",
    "                model.fit(X_train, y_train)\n",
    "                y_pred = model.predict(X_test)\n",
    "                \n",
    "                # Calculate metrics\n",
    "                accuracy = accuracy_score(y_test, y_pred)\n",
    "                precision = precision_score(y_test, y_pred, average='weighted')\n",
    "                recall = recall_score(y_test, y_pred, average='weighted')\n",
    "                f1 = f1_score(y_test, y_pred, average='weighted')\n",
    "                \n",
    "                # Create a new result row\n",
    "                default_result = pd.DataFrame({\n",
    "                    \"Model\": [model_name], \n",
    "                    \"Accuracy\": [accuracy], \n",
    "                    \"Precision\": [precision], \n",
    "                    \"Recall\": [recall], \n",
    "                    \"F1 Score\": [f1]\n",
    "                })\n",
    "                \n",
    "                # Concatenate the new row to the DataFrame\n",
    "                default_results_df = pd.concat([default_results_df, default_result], ignore_index=True)\n",
    "\n",
    "                # Print results\n",
    "                print(f\"Model: {model_name} - Default\")\n",
    "                print(f\"Accuracy: {accuracy:.4f}, Precision: {precision:.4f}, Recall: {recall:.4f}, F1: {f1:.4f}\")\n",
    "                print(classification_report(y_test, y_pred, target_names=y_train.columns))\n",
    "        \n",
    "        # Benchmark Tuned Models (with hyperparameters)\n",
    "        for model_name, hyperparameter_list in tuned_models.items():\n",
    "            for params in hyperparameter_list:\n",
    "                models[model_name][0][1].estimator.__class__(**params)  # Create a model with the specific hyperparameters\n",
    "                model = models[model_name][0]  \n",
    "                X_train = X_train_i\n",
    "                y_train = y_train_i\n",
    "                X_test = X_test_i\n",
    "                y_test = y_test_i\n",
    "\n",
    "                # Train the model\n",
    "                model.fit(X_train, y_train)\n",
    "                y_pred = model.predict(X_test)\n",
    "                \n",
    "                # Calculate metrics\n",
    "                accuracy = accuracy_score(y_test, y_pred)\n",
    "                precision = precision_score(y_test, y_pred, average='weighted')\n",
    "                recall = recall_score(y_test, y_pred, average='weighted')\n",
    "                f1 = f1_score(y_test, y_pred, average='weighted')\n",
    "                \n",
    "                # Create a new result row\n",
    "                tuned_result = pd.DataFrame({\n",
    "                    \"Model\": [model_name], \n",
    "                    \"Parameters\": [params], \n",
    "                    \"Accuracy\": [accuracy], \n",
    "                    \"Precision\": [precision], \n",
    "                    \"Recall\": [recall], \n",
    "                    \"F1 Score\": [f1]\n",
    "                })\n",
    "                \n",
    "                # Concatenate the new row to the DataFrame\n",
    "                tuned_results_df = pd.concat([tuned_results_df, tuned_result], ignore_index=True)\n",
    "\n",
    "                # Print results\n",
    "                print(f\"Model: {model_name} - Tuned with {params}\")\n",
    "                print(f\"Accuracy: {accuracy:.4f}, Precision: {precision:.4f}, Recall: {recall:.4f}, F1: {f1:.4f}\")\n",
    "                print(classification_report(y_test, y_pred, target_names=y_train.columns))\n",
    "\n",
    "    return models[\"LogisticRegression\"][0], default_results_df, tuned_results_df\n",
    "\n",
    "    # You can also plot the results if needed, e.g., plotting accuracy vs model or hyperparameter, etc.\n",
    "models, default, tuned = plot_solver_iter(X_train, y_train)"
   ]
  },
  {
   "cell_type": "markdown",
   "id": "731bebe7",
   "metadata": {
    "papermill": {
     "duration": 0.006721,
     "end_time": "2025-04-13T02:33:32.985649",
     "exception": false,
     "start_time": "2025-04-13T02:33:32.978928",
     "status": "completed"
    },
    "tags": []
   },
   "source": [
    "## Test Prediction"
   ]
  },
  {
   "cell_type": "code",
   "execution_count": 21,
   "id": "7857babb",
   "metadata": {
    "execution": {
     "iopub.execute_input": "2025-04-13T02:33:33.000029Z",
     "iopub.status.busy": "2025-04-13T02:33:32.999821Z",
     "iopub.status.idle": "2025-04-13T02:33:33.007470Z",
     "shell.execute_reply": "2025-04-13T02:33:33.006753Z"
    },
    "papermill": {
     "duration": 0.016418,
     "end_time": "2025-04-13T02:33:33.008827",
     "exception": false,
     "start_time": "2025-04-13T02:33:32.992409",
     "status": "completed"
    },
    "tags": []
   },
   "outputs": [
    {
     "data": {
      "text/plain": [
       "toxic      2\n",
       "abusive    2\n",
       "vulgar     2\n",
       "menace     2\n",
       "offense    2\n",
       "bigotry    2\n",
       "dtype: int64"
      ]
     },
     "execution_count": 21,
     "metadata": {},
     "output_type": "execute_result"
    }
   ],
   "source": [
    "y_train.nunique()"
   ]
  },
  {
   "cell_type": "code",
   "execution_count": 22,
   "id": "886f6bc4",
   "metadata": {
    "execution": {
     "iopub.execute_input": "2025-04-13T02:33:33.023340Z",
     "iopub.status.busy": "2025-04-13T02:33:33.023143Z",
     "iopub.status.idle": "2025-04-13T02:33:33.027242Z",
     "shell.execute_reply": "2025-04-13T02:33:33.026716Z"
    },
    "papermill": {
     "duration": 0.012561,
     "end_time": "2025-04-13T02:33:33.028285",
     "exception": false,
     "start_time": "2025-04-13T02:33:33.015724",
     "status": "completed"
    },
    "tags": []
   },
   "outputs": [
    {
     "data": {
      "text/plain": [
       "array(['toxic', 'abusive', 'vulgar', 'menace', 'offense', 'bigotry'],\n",
       "      dtype=object)"
      ]
     },
     "execution_count": 22,
     "metadata": {},
     "output_type": "execute_result"
    }
   ],
   "source": [
    "labels = y_train.columns.values\n",
    "labels"
   ]
  },
  {
   "cell_type": "code",
   "execution_count": 23,
   "id": "427f1c50",
   "metadata": {
    "execution": {
     "iopub.execute_input": "2025-04-13T02:33:33.042752Z",
     "iopub.status.busy": "2025-04-13T02:33:33.042569Z",
     "iopub.status.idle": "2025-04-13T02:33:33.048377Z",
     "shell.execute_reply": "2025-04-13T02:33:33.047668Z"
    },
    "papermill": {
     "duration": 0.014204,
     "end_time": "2025-04-13T02:33:33.049385",
     "exception": false,
     "start_time": "2025-04-13T02:33:33.035181",
     "status": "completed"
    },
    "tags": []
   },
   "outputs": [
    {
     "name": "stdout",
     "output_type": "stream",
     "text": [
      "         toxic     1\n",
      "       abusive     0\n",
      "        vulgar     1\n",
      "        menace     0\n",
      "       offense     0\n",
      "       bigotry     0\n"
     ]
    }
   ],
   "source": [
    "sentence = 'hello dick wikipedia fuckwhit ban'\n",
    "stemmed_sentence = stemming(sentence)\n",
    "results = LR_pipeline.predict([stemmed_sentence])[0]\n",
    "for label, result in zip(labels, results):\n",
    "    print(\"%14s %5s\" % (label, result))"
   ]
  },
  {
   "cell_type": "markdown",
   "id": "d654064c",
   "metadata": {
    "papermill": {
     "duration": 0.006754,
     "end_time": "2025-04-13T02:33:33.063176",
     "exception": false,
     "start_time": "2025-04-13T02:33:33.056422",
     "status": "completed"
    },
    "tags": []
   },
   "source": [
    "## ROC Curve"
   ]
  },
  {
   "cell_type": "code",
   "execution_count": 24,
   "id": "47109726",
   "metadata": {
    "execution": {
     "iopub.execute_input": "2025-04-13T02:33:33.078016Z",
     "iopub.status.busy": "2025-04-13T02:33:33.077575Z",
     "iopub.status.idle": "2025-04-13T02:33:34.407598Z",
     "shell.execute_reply": "2025-04-13T02:33:34.406963Z"
    },
    "papermill": {
     "duration": 1.338878,
     "end_time": "2025-04-13T02:33:34.408878",
     "exception": false,
     "start_time": "2025-04-13T02:33:33.070000",
     "status": "completed"
    },
    "tags": []
   },
   "outputs": [
    {
     "data": {
      "image/png": "[encoded data removed]",
      "text/plain": [
       "<Figure size 640x480 with 1 Axes>"
      ]
     },
     "metadata": {},
     "output_type": "display_data"
    }
   ],
   "source": [
    "def plot_roc_curve(test_labels, predict_prob):\n",
    "    fpr, tpr, thresholds = roc_curve(test_labels, predict_prob)\n",
    "    plt.plot(fpr, tpr)\n",
    "    plt.xlim([0.0, 1.0])\n",
    "    plt.ylim([0.0, 1.0])\n",
    "    plt.title('ROC Curve')\n",
    "    plt.xlabel('False Positive Rate')\n",
    "    plt.ylabel('True Positive Rate')\n",
    "    plt.grid(True)\n",
    "    plt.legend(labels)\n",
    "    \n",
    "def plot_pipeline_roc_curve(pipeline, X_train, X_test, y_train, y_test):\n",
    "    # pipeline.fit(X_train, y_train)\n",
    "    # pred_probs = pipeline.predict(X_test)[:, 1]\n",
    "    # plot_roc_curve(y_test, pred_probs)\n",
    "    for label in ['toxic']:\n",
    "        pipeline.fit(X_train, y_train[label])\n",
    "        pred_probs = pipeline.predict_proba(X_test)[:, 1]\n",
    "        plot_roc_curve(y_test[label], pred_probs)\n",
    "\n",
    "eval_df = pd.read_csv(\"/kaggle/input/techno/validation.csv\")\n",
    "eval_df.drop(['id', \"lang\"], axis=\"columns\", inplace=True)\n",
    "\n",
    "\n",
    "plot_pipeline_roc_curve(LR_pipeline, X_train, eval_df.drop('toxic', axis=\"columns\")['feedback_text'], y_train, eval_df)"
   ]
  },
  {
   "cell_type": "code",
   "execution_count": null,
   "id": "e7bf5ce6",
   "metadata": {
    "papermill": {
     "duration": 0.049946,
     "end_time": "2025-04-13T02:33:34.466699",
     "exception": false,
     "start_time": "2025-04-13T02:33:34.416753",
     "status": "completed"
    },
    "tags": []
   },
   "outputs": [],
   "source": []
  },
  {
   "cell_type": "code",
   "execution_count": null,
   "id": "31fa1d4a",
   "metadata": {
    "papermill": {
     "duration": 0.007298,
     "end_time": "2025-04-13T02:33:34.481486",
     "exception": false,
     "start_time": "2025-04-13T02:33:34.474188",
     "status": "completed"
    },
    "tags": []
   },
   "outputs": [],
   "source": []
  },
  {
   "cell_type": "code",
   "execution_count": null,
   "id": "00b3eb0f",
   "metadata": {
    "papermill": {
     "duration": 0.007034,
     "end_time": "2025-04-13T02:33:34.495686",
     "exception": false,
     "start_time": "2025-04-13T02:33:34.488652",
     "status": "completed"
    },
    "tags": []
   },
   "outputs": [],
   "source": []
  },
  {
   "cell_type": "code",
   "execution_count": 25,
   "id": "5fbc6480",
   "metadata": {
    "execution": {
     "iopub.execute_input": "2025-04-13T02:33:34.511303Z",
     "iopub.status.busy": "2025-04-13T02:33:34.510948Z",
     "iopub.status.idle": "2025-04-13T02:33:34.605660Z",
     "shell.execute_reply": "2025-04-13T02:33:34.604939Z"
    },
    "papermill": {
     "duration": 0.104126,
     "end_time": "2025-04-13T02:33:34.607016",
     "exception": false,
     "start_time": "2025-04-13T02:33:34.502890",
     "status": "completed"
    },
    "tags": []
   },
   "outputs": [],
   "source": [
    "test = pd.read_csv(\"/kaggle/input/techno/test.csv\")\n"
   ]
  },
  {
   "cell_type": "code",
   "execution_count": 26,
   "id": "c4139c2b",
   "metadata": {
    "execution": {
     "iopub.execute_input": "2025-04-13T02:33:34.623450Z",
     "iopub.status.busy": "2025-04-13T02:33:34.623222Z",
     "iopub.status.idle": "2025-04-13T02:33:34.631713Z",
     "shell.execute_reply": "2025-04-13T02:33:34.631151Z"
    },
    "papermill": {
     "duration": 0.017765,
     "end_time": "2025-04-13T02:33:34.632833",
     "exception": false,
     "start_time": "2025-04-13T02:33:34.615068",
     "status": "completed"
    },
    "tags": []
   },
   "outputs": [
    {
     "data": {
      "text/html": [
       "<div>\n",
       "<style scoped>\n",
       "    .dataframe tbody tr th:only-of-type {\n",
       "        vertical-align: middle;\n",
       "    }\n",
       "\n",
       "    .dataframe tbody tr th {\n",
       "        vertical-align: top;\n",
       "    }\n",
       "\n",
       "    .dataframe thead th {\n",
       "        text-align: right;\n",
       "    }\n",
       "</style>\n",
       "<table border=\"1\" class=\"dataframe\">\n",
       "  <thead>\n",
       "    <tr style=\"text-align: right;\">\n",
       "      <th></th>\n",
       "      <th>id</th>\n",
       "      <th>content</th>\n",
       "      <th>lang</th>\n",
       "    </tr>\n",
       "  </thead>\n",
       "  <tbody>\n",
       "    <tr>\n",
       "      <th>0</th>\n",
       "      <td>56496</td>\n",
       "      <td>Bahar merhaba, Şu TV programı için bildiğin gi...</td>\n",
       "      <td>tr</td>\n",
       "    </tr>\n",
       "    <tr>\n",
       "      <th>1</th>\n",
       "      <td>18266</td>\n",
       "      <td>Merhaba, başlık taşıma nedeniyle bir karışıklı...</td>\n",
       "      <td>tr</td>\n",
       "    </tr>\n",
       "    <tr>\n",
       "      <th>2</th>\n",
       "      <td>37852</td>\n",
       "      <td>kullanıcı   ne mutlu türküm diyene   yazmış ta...</td>\n",
       "      <td>tr</td>\n",
       "    </tr>\n",
       "    <tr>\n",
       "      <th>3</th>\n",
       "      <td>25075</td>\n",
       "      <td>Quand la plaisanterie sur le synopsis de ce fi...</td>\n",
       "      <td>fr</td>\n",
       "    </tr>\n",
       "    <tr>\n",
       "      <th>4</th>\n",
       "      <td>330</td>\n",
       "      <td>Não fosse seu esclarecimento no blog da Anne (...</td>\n",
       "      <td>pt</td>\n",
       "    </tr>\n",
       "    <tr>\n",
       "      <th>...</th>\n",
       "      <td>...</td>\n",
       "      <td>...</td>\n",
       "      <td>...</td>\n",
       "    </tr>\n",
       "    <tr>\n",
       "      <th>5996</th>\n",
       "      <td>13655</td>\n",
       "      <td>Merhaba. Vikipedi miz 150.000 maddeye ulaştı a...</td>\n",
       "      <td>tr</td>\n",
       "    </tr>\n",
       "    <tr>\n",
       "      <th>5997</th>\n",
       "      <td>57160</td>\n",
       "      <td>Ну по сути 2 раза. К тому же там претензии из...</td>\n",
       "      <td>ru</td>\n",
       "    </tr>\n",
       "    <tr>\n",
       "      <th>5998</th>\n",
       "      <td>2322</td>\n",
       "      <td>Ma asi es lo mismo, dando opcion a las otras d...</td>\n",
       "      <td>es</td>\n",
       "    </tr>\n",
       "    <tr>\n",
       "      <th>5999</th>\n",
       "      <td>15179</td>\n",
       "      <td>je dirais bien « va donc espèce de bufon » ma...</td>\n",
       "      <td>fr</td>\n",
       "    </tr>\n",
       "    <tr>\n",
       "      <th>6000</th>\n",
       "      <td>31221</td>\n",
       "      <td>Pourquoi attends tu    avec impatience    des ...</td>\n",
       "      <td>fr</td>\n",
       "    </tr>\n",
       "  </tbody>\n",
       "</table>\n",
       "<p>6001 rows × 3 columns</p>\n",
       "</div>"
      ],
      "text/plain": [
       "         id                                            content lang\n",
       "0     56496  Bahar merhaba, Şu TV programı için bildiğin gi...   tr\n",
       "1     18266  Merhaba, başlık taşıma nedeniyle bir karışıklı...   tr\n",
       "2     37852  kullanıcı   ne mutlu türküm diyene   yazmış ta...   tr\n",
       "3     25075  Quand la plaisanterie sur le synopsis de ce fi...   fr\n",
       "4       330  Não fosse seu esclarecimento no blog da Anne (...   pt\n",
       "...     ...                                                ...  ...\n",
       "5996  13655  Merhaba. Vikipedi miz 150.000 maddeye ulaştı a...   tr\n",
       "5997  57160   Ну по сути 2 раза. К тому же там претензии из...   ru\n",
       "5998   2322  Ma asi es lo mismo, dando opcion a las otras d...   es\n",
       "5999  15179   je dirais bien « va donc espèce de bufon » ma...   fr\n",
       "6000  31221  Pourquoi attends tu    avec impatience    des ...   fr\n",
       "\n",
       "[6001 rows x 3 columns]"
      ]
     },
     "execution_count": 26,
     "metadata": {},
     "output_type": "execute_result"
    }
   ],
   "source": [
    "test.loc[0:6000]"
   ]
  },
  {
   "cell_type": "code",
   "execution_count": 27,
   "id": "b26dbf20",
   "metadata": {
    "execution": {
     "iopub.execute_input": "2025-04-13T02:33:34.649956Z",
     "iopub.status.busy": "2025-04-13T02:33:34.649773Z",
     "iopub.status.idle": "2025-04-13T02:33:34.981413Z",
     "shell.execute_reply": "2025-04-13T02:33:34.980475Z"
    },
    "papermill": {
     "duration": 0.340971,
     "end_time": "2025-04-13T02:33:34.982621",
     "exception": false,
     "start_time": "2025-04-13T02:33:34.641650",
     "status": "completed"
    },
    "tags": []
   },
   "outputs": [
    {
     "name": "stdout",
     "output_type": "stream",
     "text": [
      "              precision    recall  f1-score   support\n",
      "\n",
      "           0       0.77      1.00      0.87      4637\n",
      "           1       0.12      0.00      0.00      1363\n",
      "\n",
      "    accuracy                           0.77      6000\n",
      "   macro avg       0.45      0.50      0.44      6000\n",
      "weighted avg       0.63      0.77      0.67      6000\n",
      "\n"
     ]
    }
   ],
   "source": [
    "test = pd.read_csv(\"/kaggle/input/techno/test.csv\")\n",
    "test.drop(['id', \"lang\"], axis=\"columns\", inplace=True)\n",
    "test_labels = pd.read_csv(\"/kaggle/input/techno/test_labels.csv\").drop(\"id\", axis=\"columns\")\n",
    "\n",
    "for label in ['toxic']:\n",
    "    pred_probs = LR_pipeline.predict(test[\"content\"].loc[0:5999])\n",
    "    print(classification_report(test_labels, pred_probs))"
   ]
  },
  {
   "cell_type": "code",
   "execution_count": null,
   "id": "3c6b47c2",
   "metadata": {
    "papermill": {
     "duration": 0.007464,
     "end_time": "2025-04-13T02:33:34.998196",
     "exception": false,
     "start_time": "2025-04-13T02:33:34.990732",
     "status": "completed"
    },
    "tags": []
   },
   "outputs": [],
   "source": []
  }
 ],
 "metadata": {
  "kaggle": {
   "accelerator": "gpu",
   "dataSources": [
    {
     "datasetId": 7112582,
     "sourceId": 11375581,
     "sourceType": "datasetVersion"
    }
   ],
   "dockerImageVersionId": 31011,
   "isGpuEnabled": true,
   "isInternetEnabled": true,
   "language": "python",
   "sourceType": "notebook"
  },
  "kernelspec": {
   "display_name": "Python 3",
   "language": "python",
   "name": "python3"
  },
  "language_info": {
   "codemirror_mode": {
    "name": "ipython",
    "version": 3
   },
   "file_extension": ".py",
   "mimetype": "text/x-python",
   "name": "python",
   "nbconvert_exporter": "python",
   "pygments_lexer": "ipython3",
   "version": "3.11.11"
  },
  "papermill": {
   "default_parameters": {},
   "duration": 49.365501,
   "end_time": "2025-04-13T02:33:37.622849",
   "environment_variables": {},
   "exception": null,
   "input_path": "__notebook__.ipynb",
   "output_path": "__notebook__.ipynb",
   "parameters": {},
   "start_time": "2025-04-13T02:32:48.257348",
   "version": "2.6.0"
  }
 },
 "nbformat": 4,
 "nbformat_minor": 5
}
