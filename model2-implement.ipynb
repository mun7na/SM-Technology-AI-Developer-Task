{
 "cells": [
  {
   "cell_type": "markdown",
   "id": "7cb2bdeb",
   "metadata": {
    "papermill": {
     "duration": 0.007494,
     "end_time": "2025-04-13T03:09:48.964953",
     "exception": false,
     "start_time": "2025-04-13T03:09:48.957459",
     "status": "completed"
    },
    "tags": []
   },
   "source": [
    "## Data Analysis"
   ]
  },
  {
   "cell_type": "code",
   "execution_count": 1,
   "id": "9d099684",
   "metadata": {
    "execution": {
     "iopub.execute_input": "2025-04-13T03:09:48.980240Z",
     "iopub.status.busy": "2025-04-13T03:09:48.979302Z",
     "iopub.status.idle": "2025-04-13T03:09:56.937224Z",
     "shell.execute_reply": "2025-04-13T03:09:56.936317Z"
    },
    "papermill": {
     "duration": 7.968156,
     "end_time": "2025-04-13T03:09:56.939656",
     "exception": false,
     "start_time": "2025-04-13T03:09:48.971500",
     "status": "completed"
    },
    "tags": []
   },
   "outputs": [
    {
     "name": "stdout",
     "output_type": "stream",
     "text": [
      "Requirement already satisfied: transformers in /opt/conda/lib/python3.7/site-packages (4.26.1)\r\n",
      "Collecting evaluate\r\n",
      "  Downloading evaluate-0.4.1-py3-none-any.whl (84 kB)\r\n",
      "\u001b[2K     \u001b[90m━━━━━━━━━━━━━━━━━━━━━━━━━━━━━━━━━━━━━━━━\u001b[0m \u001b[32m84.1/84.1 kB\u001b[0m \u001b[31m6.1 MB/s\u001b[0m eta \u001b[36m0:00:00\u001b[0m\r\n",
      "\u001b[?25hRequirement already satisfied: datasets in /opt/conda/lib/python3.7/site-packages (2.1.0)\r\n",
      "Requirement already satisfied: requests in /opt/conda/lib/python3.7/site-packages (2.28.2)\r\n",
      "Requirement already satisfied: pandas in /opt/conda/lib/python3.7/site-packages (1.3.5)\r\n",
      "Collecting sklearn\r\n",
      "  Downloading sklearn-0.0.post12.tar.gz (2.6 kB)\r\n",
      "  Preparing metadata (setup.py) ... \u001b[?25l-\b \berror\r\n",
      "  \u001b[1;31merror\u001b[0m: \u001b[1msubprocess-exited-with-error\u001b[0m\r\n",
      "  \r\n",
      "  \u001b[31m×\u001b[0m \u001b[32mpython setup.py egg_info\u001b[0m did not run successfully.\r\n",
      "  \u001b[31m│\u001b[0m exit code: \u001b[1;36m1\u001b[0m\r\n",
      "  \u001b[31m╰─>\u001b[0m \u001b[31m[15 lines of output]\u001b[0m\r\n",
      "  \u001b[31m   \u001b[0m The 'sklearn' PyPI package is deprecated, use 'scikit-learn'\r\n",
      "  \u001b[31m   \u001b[0m rather than 'sklearn' for pip commands.\r\n",
      "  \u001b[31m   \u001b[0m \r\n",
      "  \u001b[31m   \u001b[0m Here is how to fix this error in the main use cases:\r\n",
      "  \u001b[31m   \u001b[0m - use 'pip install scikit-learn' rather than 'pip install sklearn'\r\n",
      "  \u001b[31m   \u001b[0m - replace 'sklearn' by 'scikit-learn' in your pip requirements files\r\n",
      "  \u001b[31m   \u001b[0m   (requirements.txt, setup.py, setup.cfg, Pipfile, etc ...)\r\n",
      "  \u001b[31m   \u001b[0m - if the 'sklearn' package is used by one of your dependencies,\r\n",
      "  \u001b[31m   \u001b[0m   it would be great if you take some time to track which package uses\r\n",
      "  \u001b[31m   \u001b[0m   'sklearn' instead of 'scikit-learn' and report it to their issue tracker\r\n",
      "  \u001b[31m   \u001b[0m - as a last resort, set the environment variable\r\n",
      "  \u001b[31m   \u001b[0m   SKLEARN_ALLOW_DEPRECATED_SKLEARN_PACKAGE_INSTALL=True to avoid this error\r\n",
      "  \u001b[31m   \u001b[0m \r\n",
      "  \u001b[31m   \u001b[0m More information is available at\r\n",
      "  \u001b[31m   \u001b[0m https://github.com/scikit-learn/sklearn-pypi-package\r\n",
      "  \u001b[31m   \u001b[0m \u001b[31m[end of output]\u001b[0m\r\n",
      "  \r\n",
      "  \u001b[1;35mnote\u001b[0m: This error originates from a subprocess, and is likely not a problem with pip.\r\n",
      "\u001b[1;31merror\u001b[0m: \u001b[1mmetadata-generation-failed\u001b[0m\r\n",
      "\r\n",
      "\u001b[31m×\u001b[0m Encountered error while generating package metadata.\r\n",
      "\u001b[31m╰─>\u001b[0m See above for output.\r\n",
      "\r\n",
      "\u001b[1;35mnote\u001b[0m: This is an issue with the package mentioned above, not pip.\r\n",
      "\u001b[1;36mhint\u001b[0m: See above for details.\r\n",
      "\u001b[?25h[nltk_data] Downloading package wordnet to /usr/share/nltk_data...\n",
      "[nltk_data]   Package wordnet is already up-to-date!\n",
      "[nltk_data] Downloading package omw-1.4 to /usr/share/nltk_data...\n",
      "[nltk_data] Downloading package punkt to /usr/share/nltk_data...\n",
      "[nltk_data]   Package punkt is already up-to-date!\n",
      "[nltk_data] Downloading package averaged_perceptron_tagger to\n",
      "[nltk_data]     /usr/share/nltk_data...\n",
      "[nltk_data]   Package averaged_perceptron_tagger is already up-to-\n",
      "[nltk_data]       date!\n"
     ]
    }
   ],
   "source": [
    "! pip install transformers evaluate datasets requests pandas sklearn nltk\n",
    "\n",
    "# Import the necessary libraries\n",
    "import pandas as pd\n",
    "import numpy as np\n",
    "import matplotlib.pyplot as plt\n",
    "import nltk\n",
    "nltk.download('wordnet')\n",
    "nltk.download('omw-1.4')\n",
    "nltk.download('punkt')\n",
    "nltk.download('averaged_perceptron_tagger')\n",
    "import re\n",
    "import torch\n",
    "\n",
    "from nltk.corpus import wordnet\n",
    "from nltk import pos_tag, word_tokenize\n",
    "from sklearn.model_selection import train_test_split\n",
    "from nltk.stem import WordNetLemmatizer"
   ]
  },
  {
   "cell_type": "code",
   "execution_count": 2,
   "id": "5317a184",
   "metadata": {
    "execution": {
     "iopub.execute_input": "2025-04-13T03:09:56.955023Z",
     "iopub.status.busy": "2025-04-13T03:09:56.954514Z",
     "iopub.status.idle": "2025-04-13T03:09:57.035180Z",
     "shell.execute_reply": "2025-04-13T03:09:57.033920Z"
    },
    "papermill": {
     "duration": 0.090184,
     "end_time": "2025-04-13T03:09:57.037101",
     "exception": false,
     "start_time": "2025-04-13T03:09:56.946917",
     "status": "completed"
    },
    "tags": []
   },
   "outputs": [
    {
     "name": "stdout",
     "output_type": "stream",
     "text": [
      "There are 1 GPU(s) available.\n",
      "Device name: Tesla P100-PCIE-16GB\n"
     ]
    }
   ],
   "source": [
    "if torch.cuda.is_available():       \n",
    "    device = torch.device(\"cuda\")\n",
    "    print(f'There are {torch.cuda.device_count()} GPU(s) available.')\n",
    "    print('Device name:', torch.cuda.get_device_name(0))\n",
    "\n",
    "else:\n",
    "    print('No GPU available, using the CPU instead.')\n",
    "    device = torch.device(\"cpu\")"
   ]
  },
  {
   "cell_type": "code",
   "execution_count": 3,
   "id": "861a5fd3",
   "metadata": {
    "execution": {
     "iopub.execute_input": "2025-04-13T03:09:57.052258Z",
     "iopub.status.busy": "2025-04-13T03:09:57.051986Z",
     "iopub.status.idle": "2025-04-13T03:09:57.466398Z",
     "shell.execute_reply": "2025-04-13T03:09:57.465635Z"
    },
    "papermill": {
     "duration": 0.424611,
     "end_time": "2025-04-13T03:09:57.468727",
     "exception": false,
     "start_time": "2025-04-13T03:09:57.044116",
     "status": "completed"
    },
    "tags": []
   },
   "outputs": [],
   "source": [
    "# Read the data from directory\n",
    "train_data = pd.read_csv(\"/kaggle/input/techno/train.csv\")\n",
    "test_data = pd.read_csv(\"/kaggle/input/techno/test.csv\")\n",
    "test_labels = pd.read_csv(\"/kaggle/input/techno/test_labels.csv\")\n",
    "#sample_submission = pd.read_csv(working_directory + \"sample_submission.csv\")"
   ]
  },
  {
   "cell_type": "code",
   "execution_count": 4,
   "id": "72d1edb2",
   "metadata": {
    "execution": {
     "iopub.execute_input": "2025-04-13T03:09:57.484547Z",
     "iopub.status.busy": "2025-04-13T03:09:57.483940Z",
     "iopub.status.idle": "2025-04-13T03:09:57.487711Z",
     "shell.execute_reply": "2025-04-13T03:09:57.486877Z"
    },
    "papermill": {
     "duration": 0.013573,
     "end_time": "2025-04-13T03:09:57.489556",
     "exception": false,
     "start_time": "2025-04-13T03:09:57.475983",
     "status": "completed"
    },
    "tags": []
   },
   "outputs": [],
   "source": [
    "# Checking sample submission to get an idea\n",
    "#print(sample_submission.head())"
   ]
  },
  {
   "cell_type": "code",
   "execution_count": 5,
   "id": "3fa436e8",
   "metadata": {
    "execution": {
     "iopub.execute_input": "2025-04-13T03:09:57.504868Z",
     "iopub.status.busy": "2025-04-13T03:09:57.504305Z",
     "iopub.status.idle": "2025-04-13T03:09:57.518916Z",
     "shell.execute_reply": "2025-04-13T03:09:57.517969Z"
    },
    "papermill": {
     "duration": 0.023941,
     "end_time": "2025-04-13T03:09:57.520731",
     "exception": false,
     "start_time": "2025-04-13T03:09:57.496790",
     "status": "completed"
    },
    "tags": []
   },
   "outputs": [
    {
     "data": {
      "text/html": [
       "<div>\n",
       "<style scoped>\n",
       "    .dataframe tbody tr th:only-of-type {\n",
       "        vertical-align: middle;\n",
       "    }\n",
       "\n",
       "    .dataframe tbody tr th {\n",
       "        vertical-align: top;\n",
       "    }\n",
       "\n",
       "    .dataframe thead th {\n",
       "        text-align: right;\n",
       "    }\n",
       "</style>\n",
       "<table border=\"1\" class=\"dataframe\">\n",
       "  <thead>\n",
       "    <tr style=\"text-align: right;\">\n",
       "      <th></th>\n",
       "      <th>id</th>\n",
       "      <th>toxic</th>\n",
       "    </tr>\n",
       "  </thead>\n",
       "  <tbody>\n",
       "    <tr>\n",
       "      <th>0</th>\n",
       "      <td>0</td>\n",
       "      <td>0</td>\n",
       "    </tr>\n",
       "    <tr>\n",
       "      <th>1</th>\n",
       "      <td>1</td>\n",
       "      <td>0</td>\n",
       "    </tr>\n",
       "    <tr>\n",
       "      <th>2</th>\n",
       "      <td>2</td>\n",
       "      <td>1</td>\n",
       "    </tr>\n",
       "    <tr>\n",
       "      <th>3</th>\n",
       "      <td>3</td>\n",
       "      <td>0</td>\n",
       "    </tr>\n",
       "    <tr>\n",
       "      <th>4</th>\n",
       "      <td>4</td>\n",
       "      <td>0</td>\n",
       "    </tr>\n",
       "  </tbody>\n",
       "</table>\n",
       "</div>"
      ],
      "text/plain": [
       "   id  toxic\n",
       "0   0      0\n",
       "1   1      0\n",
       "2   2      1\n",
       "3   3      0\n",
       "4   4      0"
      ]
     },
     "execution_count": 5,
     "metadata": {},
     "output_type": "execute_result"
    }
   ],
   "source": [
    "test_labels.head()"
   ]
  },
  {
   "cell_type": "code",
   "execution_count": 6,
   "id": "33629433",
   "metadata": {
    "execution": {
     "iopub.execute_input": "2025-04-13T03:09:57.536063Z",
     "iopub.status.busy": "2025-04-13T03:09:57.535161Z",
     "iopub.status.idle": "2025-04-13T03:09:57.552695Z",
     "shell.execute_reply": "2025-04-13T03:09:57.551789Z"
    },
    "papermill": {
     "duration": 0.027104,
     "end_time": "2025-04-13T03:09:57.554667",
     "exception": false,
     "start_time": "2025-04-13T03:09:57.527563",
     "status": "completed"
    },
    "tags": []
   },
   "outputs": [
    {
     "data": {
      "text/html": [
       "<div>\n",
       "<style scoped>\n",
       "    .dataframe tbody tr th:only-of-type {\n",
       "        vertical-align: middle;\n",
       "    }\n",
       "\n",
       "    .dataframe tbody tr th {\n",
       "        vertical-align: top;\n",
       "    }\n",
       "\n",
       "    .dataframe thead th {\n",
       "        text-align: right;\n",
       "    }\n",
       "</style>\n",
       "<table border=\"1\" class=\"dataframe\">\n",
       "  <thead>\n",
       "    <tr style=\"text-align: right;\">\n",
       "      <th></th>\n",
       "      <th>feedback_text</th>\n",
       "      <th>toxic</th>\n",
       "      <th>abusive</th>\n",
       "      <th>vulgar</th>\n",
       "      <th>menace</th>\n",
       "      <th>offense</th>\n",
       "      <th>bigotry</th>\n",
       "    </tr>\n",
       "  </thead>\n",
       "  <tbody>\n",
       "    <tr>\n",
       "      <th>0</th>\n",
       "      <td>:::Sounds good.  Let me know when you're done ...</td>\n",
       "      <td>0</td>\n",
       "      <td>0</td>\n",
       "      <td>0</td>\n",
       "      <td>0</td>\n",
       "      <td>0</td>\n",
       "      <td>0</td>\n",
       "    </tr>\n",
       "    <tr>\n",
       "      <th>1</th>\n",
       "      <td>\"\\nI say something, but it didn't actually con...</td>\n",
       "      <td>0</td>\n",
       "      <td>0</td>\n",
       "      <td>0</td>\n",
       "      <td>0</td>\n",
       "      <td>0</td>\n",
       "      <td>0</td>\n",
       "    </tr>\n",
       "    <tr>\n",
       "      <th>2</th>\n",
       "      <td>\"Agustina Barrientos]] \\n | Modelo de Piñeiro ...</td>\n",
       "      <td>0</td>\n",
       "      <td>0</td>\n",
       "      <td>0</td>\n",
       "      <td>0</td>\n",
       "      <td>0</td>\n",
       "      <td>0</td>\n",
       "    </tr>\n",
       "    <tr>\n",
       "      <th>3</th>\n",
       "      <td>FYI I enjoy licking strangers scrotal sacks......</td>\n",
       "      <td>1</td>\n",
       "      <td>0</td>\n",
       "      <td>1</td>\n",
       "      <td>0</td>\n",
       "      <td>0</td>\n",
       "      <td>0</td>\n",
       "    </tr>\n",
       "    <tr>\n",
       "      <th>4</th>\n",
       "      <td>How do you get a site?\\nMany penguins have ask...</td>\n",
       "      <td>0</td>\n",
       "      <td>0</td>\n",
       "      <td>0</td>\n",
       "      <td>0</td>\n",
       "      <td>0</td>\n",
       "      <td>0</td>\n",
       "    </tr>\n",
       "  </tbody>\n",
       "</table>\n",
       "</div>"
      ],
      "text/plain": [
       "                                       feedback_text  toxic  abusive  vulgar  \\\n",
       "0  :::Sounds good.  Let me know when you're done ...      0        0       0   \n",
       "1  \"\\nI say something, but it didn't actually con...      0        0       0   \n",
       "2  \"Agustina Barrientos]] \\n | Modelo de Piñeiro ...      0        0       0   \n",
       "3  FYI I enjoy licking strangers scrotal sacks......      1        0       1   \n",
       "4  How do you get a site?\\nMany penguins have ask...      0        0       0   \n",
       "\n",
       "   menace  offense  bigotry  \n",
       "0       0        0        0  \n",
       "1       0        0        0  \n",
       "2       0        0        0  \n",
       "3       0        0        0  \n",
       "4       0        0        0  "
      ]
     },
     "execution_count": 6,
     "metadata": {},
     "output_type": "execute_result"
    }
   ],
   "source": [
    "train_data = train_data.drop(columns=['id'], axis=1)\n",
    "train_data.head()"
   ]
  },
  {
   "cell_type": "code",
   "execution_count": 7,
   "id": "d819c49b",
   "metadata": {
    "execution": {
     "iopub.execute_input": "2025-04-13T03:09:57.570010Z",
     "iopub.status.busy": "2025-04-13T03:09:57.569445Z",
     "iopub.status.idle": "2025-04-13T03:09:57.587834Z",
     "shell.execute_reply": "2025-04-13T03:09:57.586596Z"
    },
    "papermill": {
     "duration": 0.028097,
     "end_time": "2025-04-13T03:09:57.589805",
     "exception": false,
     "start_time": "2025-04-13T03:09:57.561708",
     "status": "completed"
    },
    "tags": []
   },
   "outputs": [
    {
     "name": "stdout",
     "output_type": "stream",
     "text": [
      "<class 'pandas.core.frame.DataFrame'>\n",
      "RangeIndex: 23473 entries, 0 to 23472\n",
      "Data columns (total 7 columns):\n",
      " #   Column         Non-Null Count  Dtype \n",
      "---  ------         --------------  ----- \n",
      " 0   feedback_text  23473 non-null  object\n",
      " 1   toxic          23473 non-null  int64 \n",
      " 2   abusive        23473 non-null  int64 \n",
      " 3   vulgar         23473 non-null  int64 \n",
      " 4   menace         23473 non-null  int64 \n",
      " 5   offense        23473 non-null  int64 \n",
      " 6   bigotry        23473 non-null  int64 \n",
      "dtypes: int64(6), object(1)\n",
      "memory usage: 1.3+ MB\n"
     ]
    }
   ],
   "source": [
    "train_data.info()"
   ]
  },
  {
   "cell_type": "code",
   "execution_count": 8,
   "id": "14f4292f",
   "metadata": {
    "execution": {
     "iopub.execute_input": "2025-04-13T03:09:57.604961Z",
     "iopub.status.busy": "2025-04-13T03:09:57.604676Z",
     "iopub.status.idle": "2025-04-13T03:09:57.610013Z",
     "shell.execute_reply": "2025-04-13T03:09:57.609158Z"
    },
    "papermill": {
     "duration": 0.015199,
     "end_time": "2025-04-13T03:09:57.611928",
     "exception": false,
     "start_time": "2025-04-13T03:09:57.596729",
     "status": "completed"
    },
    "tags": []
   },
   "outputs": [
    {
     "data": {
      "text/plain": [
       "Index(['feedback_text', 'toxic', 'abusive', 'vulgar', 'menace', 'offense',\n",
       "       'bigotry'],\n",
       "      dtype='object')"
      ]
     },
     "execution_count": 8,
     "metadata": {},
     "output_type": "execute_result"
    }
   ],
   "source": [
    "train_data.columns"
   ]
  },
  {
   "cell_type": "code",
   "execution_count": 9,
   "id": "d9ba54e7",
   "metadata": {
    "execution": {
     "iopub.execute_input": "2025-04-13T03:09:57.627375Z",
     "iopub.status.busy": "2025-04-13T03:09:57.627103Z",
     "iopub.status.idle": "2025-04-13T03:09:57.655467Z",
     "shell.execute_reply": "2025-04-13T03:09:57.654454Z"
    },
    "papermill": {
     "duration": 0.038125,
     "end_time": "2025-04-13T03:09:57.657282",
     "exception": false,
     "start_time": "2025-04-13T03:09:57.619157",
     "status": "completed"
    },
    "tags": []
   },
   "outputs": [
    {
     "data": {
      "text/html": [
       "<div>\n",
       "<style scoped>\n",
       "    .dataframe tbody tr th:only-of-type {\n",
       "        vertical-align: middle;\n",
       "    }\n",
       "\n",
       "    .dataframe tbody tr th {\n",
       "        vertical-align: top;\n",
       "    }\n",
       "\n",
       "    .dataframe thead th {\n",
       "        text-align: right;\n",
       "    }\n",
       "</style>\n",
       "<table border=\"1\" class=\"dataframe\">\n",
       "  <thead>\n",
       "    <tr style=\"text-align: right;\">\n",
       "      <th></th>\n",
       "      <th>toxic</th>\n",
       "      <th>abusive</th>\n",
       "      <th>vulgar</th>\n",
       "      <th>menace</th>\n",
       "      <th>offense</th>\n",
       "      <th>bigotry</th>\n",
       "    </tr>\n",
       "  </thead>\n",
       "  <tbody>\n",
       "    <tr>\n",
       "      <th>count</th>\n",
       "      <td>23473.000000</td>\n",
       "      <td>23473.000000</td>\n",
       "      <td>23473.000000</td>\n",
       "      <td>23473.000000</td>\n",
       "      <td>23473.000000</td>\n",
       "      <td>23473.000000</td>\n",
       "    </tr>\n",
       "    <tr>\n",
       "      <th>mean</th>\n",
       "      <td>0.093554</td>\n",
       "      <td>0.007498</td>\n",
       "      <td>0.054318</td>\n",
       "      <td>0.002812</td>\n",
       "      <td>0.048992</td>\n",
       "      <td>0.008222</td>\n",
       "    </tr>\n",
       "    <tr>\n",
       "      <th>std</th>\n",
       "      <td>0.291214</td>\n",
       "      <td>0.086267</td>\n",
       "      <td>0.226648</td>\n",
       "      <td>0.052952</td>\n",
       "      <td>0.215857</td>\n",
       "      <td>0.090305</td>\n",
       "    </tr>\n",
       "    <tr>\n",
       "      <th>min</th>\n",
       "      <td>0.000000</td>\n",
       "      <td>0.000000</td>\n",
       "      <td>0.000000</td>\n",
       "      <td>0.000000</td>\n",
       "      <td>0.000000</td>\n",
       "      <td>0.000000</td>\n",
       "    </tr>\n",
       "    <tr>\n",
       "      <th>25%</th>\n",
       "      <td>0.000000</td>\n",
       "      <td>0.000000</td>\n",
       "      <td>0.000000</td>\n",
       "      <td>0.000000</td>\n",
       "      <td>0.000000</td>\n",
       "      <td>0.000000</td>\n",
       "    </tr>\n",
       "    <tr>\n",
       "      <th>50%</th>\n",
       "      <td>0.000000</td>\n",
       "      <td>0.000000</td>\n",
       "      <td>0.000000</td>\n",
       "      <td>0.000000</td>\n",
       "      <td>0.000000</td>\n",
       "      <td>0.000000</td>\n",
       "    </tr>\n",
       "    <tr>\n",
       "      <th>75%</th>\n",
       "      <td>0.000000</td>\n",
       "      <td>0.000000</td>\n",
       "      <td>0.000000</td>\n",
       "      <td>0.000000</td>\n",
       "      <td>0.000000</td>\n",
       "      <td>0.000000</td>\n",
       "    </tr>\n",
       "    <tr>\n",
       "      <th>max</th>\n",
       "      <td>1.000000</td>\n",
       "      <td>1.000000</td>\n",
       "      <td>1.000000</td>\n",
       "      <td>1.000000</td>\n",
       "      <td>1.000000</td>\n",
       "      <td>1.000000</td>\n",
       "    </tr>\n",
       "  </tbody>\n",
       "</table>\n",
       "</div>"
      ],
      "text/plain": [
       "              toxic       abusive        vulgar        menace       offense  \\\n",
       "count  23473.000000  23473.000000  23473.000000  23473.000000  23473.000000   \n",
       "mean       0.093554      0.007498      0.054318      0.002812      0.048992   \n",
       "std        0.291214      0.086267      0.226648      0.052952      0.215857   \n",
       "min        0.000000      0.000000      0.000000      0.000000      0.000000   \n",
       "25%        0.000000      0.000000      0.000000      0.000000      0.000000   \n",
       "50%        0.000000      0.000000      0.000000      0.000000      0.000000   \n",
       "75%        0.000000      0.000000      0.000000      0.000000      0.000000   \n",
       "max        1.000000      1.000000      1.000000      1.000000      1.000000   \n",
       "\n",
       "            bigotry  \n",
       "count  23473.000000  \n",
       "mean       0.008222  \n",
       "std        0.090305  \n",
       "min        0.000000  \n",
       "25%        0.000000  \n",
       "50%        0.000000  \n",
       "75%        0.000000  \n",
       "max        1.000000  "
      ]
     },
     "execution_count": 9,
     "metadata": {},
     "output_type": "execute_result"
    }
   ],
   "source": [
    "train_data.columns = train_data.columns.str.strip()\n",
    "train_data.describe()"
   ]
  },
  {
   "cell_type": "code",
   "execution_count": 10,
   "id": "fb6f6a30",
   "metadata": {
    "execution": {
     "iopub.execute_input": "2025-04-13T03:09:57.673273Z",
     "iopub.status.busy": "2025-04-13T03:09:57.672722Z",
     "iopub.status.idle": "2025-04-13T03:09:57.682038Z",
     "shell.execute_reply": "2025-04-13T03:09:57.681268Z"
    },
    "papermill": {
     "duration": 0.019187,
     "end_time": "2025-04-13T03:09:57.683765",
     "exception": false,
     "start_time": "2025-04-13T03:09:57.664578",
     "status": "completed"
    },
    "tags": []
   },
   "outputs": [
    {
     "data": {
      "text/plain": [
       "feedback_text    0\n",
       "toxic            0\n",
       "abusive          0\n",
       "vulgar           0\n",
       "menace           0\n",
       "offense          0\n",
       "bigotry          0\n",
       "dtype: int64"
      ]
     },
     "execution_count": 10,
     "metadata": {},
     "output_type": "execute_result"
    }
   ],
   "source": [
    "train_data.isnull().sum()"
   ]
  },
  {
   "cell_type": "code",
   "execution_count": 11,
   "id": "4395e306",
   "metadata": {
    "execution": {
     "iopub.execute_input": "2025-04-13T03:09:57.699480Z",
     "iopub.status.busy": "2025-04-13T03:09:57.699216Z",
     "iopub.status.idle": "2025-04-13T03:09:57.703960Z",
     "shell.execute_reply": "2025-04-13T03:09:57.703090Z"
    },
    "papermill": {
     "duration": 0.014696,
     "end_time": "2025-04-13T03:09:57.705768",
     "exception": false,
     "start_time": "2025-04-13T03:09:57.691072",
     "status": "completed"
    },
    "tags": []
   },
   "outputs": [
    {
     "name": "stdout",
     "output_type": "stream",
     "text": [
      "['abusive', 'vulgar', 'menace', 'offense', 'bigotry']\n"
     ]
    }
   ],
   "source": [
    "labels = list(train_data.columns.values)\n",
    "labels = labels[2:]\n",
    "print(labels)"
   ]
  },
  {
   "cell_type": "code",
   "execution_count": 12,
   "id": "4aaf62d8",
   "metadata": {
    "execution": {
     "iopub.execute_input": "2025-04-13T03:09:57.721779Z",
     "iopub.status.busy": "2025-04-13T03:09:57.721516Z",
     "iopub.status.idle": "2025-04-13T03:09:57.731396Z",
     "shell.execute_reply": "2025-04-13T03:09:57.730661Z"
    },
    "papermill": {
     "duration": 0.019701,
     "end_time": "2025-04-13T03:09:57.733119",
     "exception": false,
     "start_time": "2025-04-13T03:09:57.713418",
     "status": "completed"
    },
    "tags": []
   },
   "outputs": [
    {
     "data": {
      "text/html": [
       "<div>\n",
       "<style scoped>\n",
       "    .dataframe tbody tr th:only-of-type {\n",
       "        vertical-align: middle;\n",
       "    }\n",
       "\n",
       "    .dataframe tbody tr th {\n",
       "        vertical-align: top;\n",
       "    }\n",
       "\n",
       "    .dataframe thead th {\n",
       "        text-align: right;\n",
       "    }\n",
       "</style>\n",
       "<table border=\"1\" class=\"dataframe\">\n",
       "  <thead>\n",
       "    <tr style=\"text-align: right;\">\n",
       "      <th></th>\n",
       "      <th>label</th>\n",
       "      <th>number_of_comments</th>\n",
       "    </tr>\n",
       "  </thead>\n",
       "  <tbody>\n",
       "    <tr>\n",
       "      <th>0</th>\n",
       "      <td>abusive</td>\n",
       "      <td>176</td>\n",
       "    </tr>\n",
       "    <tr>\n",
       "      <th>1</th>\n",
       "      <td>vulgar</td>\n",
       "      <td>1275</td>\n",
       "    </tr>\n",
       "    <tr>\n",
       "      <th>2</th>\n",
       "      <td>menace</td>\n",
       "      <td>66</td>\n",
       "    </tr>\n",
       "    <tr>\n",
       "      <th>3</th>\n",
       "      <td>offense</td>\n",
       "      <td>1150</td>\n",
       "    </tr>\n",
       "    <tr>\n",
       "      <th>4</th>\n",
       "      <td>bigotry</td>\n",
       "      <td>193</td>\n",
       "    </tr>\n",
       "  </tbody>\n",
       "</table>\n",
       "</div>"
      ],
      "text/plain": [
       "     label  number_of_comments\n",
       "0  abusive                 176\n",
       "1   vulgar                1275\n",
       "2   menace                  66\n",
       "3  offense                1150\n",
       "4  bigotry                 193"
      ]
     },
     "execution_count": 12,
     "metadata": {},
     "output_type": "execute_result"
    }
   ],
   "source": [
    "counts = []\n",
    "for label in labels:\n",
    "    counts.append((label, train_data[label].sum()))\n",
    "df_stats = pd.DataFrame(counts, columns=['label', 'number_of_comments'])\n",
    "df_stats"
   ]
  },
  {
   "cell_type": "code",
   "execution_count": 13,
   "id": "483c8cca",
   "metadata": {
    "execution": {
     "iopub.execute_input": "2025-04-13T03:09:57.749345Z",
     "iopub.status.busy": "2025-04-13T03:09:57.749087Z",
     "iopub.status.idle": "2025-04-13T03:09:57.754640Z",
     "shell.execute_reply": "2025-04-13T03:09:57.753755Z"
    },
    "papermill": {
     "duration": 0.015761,
     "end_time": "2025-04-13T03:09:57.756397",
     "exception": false,
     "start_time": "2025-04-13T03:09:57.740636",
     "status": "completed"
    },
    "tags": []
   },
   "outputs": [
    {
     "data": {
      "text/plain": [
       "2860"
      ]
     },
     "execution_count": 13,
     "metadata": {},
     "output_type": "execute_result"
    }
   ],
   "source": [
    "total_labeled_sample = sum(df_stats.number_of_comments)\n",
    "total_labeled_sample"
   ]
  },
  {
   "cell_type": "code",
   "execution_count": 14,
   "id": "800414ce",
   "metadata": {
    "execution": {
     "iopub.execute_input": "2025-04-13T03:09:57.772952Z",
     "iopub.status.busy": "2025-04-13T03:09:57.772272Z",
     "iopub.status.idle": "2025-04-13T03:09:57.780747Z",
     "shell.execute_reply": "2025-04-13T03:09:57.780013Z"
    },
    "papermill": {
     "duration": 0.018585,
     "end_time": "2025-04-13T03:09:57.782555",
     "exception": false,
     "start_time": "2025-04-13T03:09:57.763970",
     "status": "completed"
    },
    "tags": []
   },
   "outputs": [
    {
     "data": {
      "text/html": [
       "<div>\n",
       "<style scoped>\n",
       "    .dataframe tbody tr th:only-of-type {\n",
       "        vertical-align: middle;\n",
       "    }\n",
       "\n",
       "    .dataframe tbody tr th {\n",
       "        vertical-align: top;\n",
       "    }\n",
       "\n",
       "    .dataframe thead th {\n",
       "        text-align: right;\n",
       "    }\n",
       "</style>\n",
       "<table border=\"1\" class=\"dataframe\">\n",
       "  <thead>\n",
       "    <tr style=\"text-align: right;\">\n",
       "      <th></th>\n",
       "      <th>id</th>\n",
       "      <th>content</th>\n",
       "      <th>lang</th>\n",
       "    </tr>\n",
       "  </thead>\n",
       "  <tbody>\n",
       "    <tr>\n",
       "      <th>0</th>\n",
       "      <td>56496</td>\n",
       "      <td>Bahar merhaba, Şu TV programı için bildiğin gi...</td>\n",
       "      <td>tr</td>\n",
       "    </tr>\n",
       "    <tr>\n",
       "      <th>1</th>\n",
       "      <td>18266</td>\n",
       "      <td>Merhaba, başlık taşıma nedeniyle bir karışıklı...</td>\n",
       "      <td>tr</td>\n",
       "    </tr>\n",
       "    <tr>\n",
       "      <th>2</th>\n",
       "      <td>37852</td>\n",
       "      <td>kullanıcı   ne mutlu türküm diyene   yazmış ta...</td>\n",
       "      <td>tr</td>\n",
       "    </tr>\n",
       "    <tr>\n",
       "      <th>3</th>\n",
       "      <td>25075</td>\n",
       "      <td>Quand la plaisanterie sur le synopsis de ce fi...</td>\n",
       "      <td>fr</td>\n",
       "    </tr>\n",
       "    <tr>\n",
       "      <th>4</th>\n",
       "      <td>330</td>\n",
       "      <td>Não fosse seu esclarecimento no blog da Anne (...</td>\n",
       "      <td>pt</td>\n",
       "    </tr>\n",
       "  </tbody>\n",
       "</table>\n",
       "</div>"
      ],
      "text/plain": [
       "      id                                            content lang\n",
       "0  56496  Bahar merhaba, Şu TV programı için bildiğin gi...   tr\n",
       "1  18266  Merhaba, başlık taşıma nedeniyle bir karışıklı...   tr\n",
       "2  37852  kullanıcı   ne mutlu türküm diyene   yazmış ta...   tr\n",
       "3  25075  Quand la plaisanterie sur le synopsis de ce fi...   fr\n",
       "4    330  Não fosse seu esclarecimento no blog da Anne (...   pt"
      ]
     },
     "execution_count": 14,
     "metadata": {},
     "output_type": "execute_result"
    }
   ],
   "source": [
    "test_data.head()\n"
   ]
  },
  {
   "cell_type": "markdown",
   "id": "31fe12a5",
   "metadata": {
    "papermill": {
     "duration": 0.007523,
     "end_time": "2025-04-13T03:09:57.797899",
     "exception": false,
     "start_time": "2025-04-13T03:09:57.790376",
     "status": "completed"
    },
    "tags": []
   },
   "source": [
    "## Preprocessing the data"
   ]
  },
  {
   "cell_type": "code",
   "execution_count": 15,
   "id": "bbcf90ba",
   "metadata": {
    "execution": {
     "iopub.execute_input": "2025-04-13T03:09:57.815962Z",
     "iopub.status.busy": "2025-04-13T03:09:57.815152Z",
     "iopub.status.idle": "2025-04-13T03:09:57.821533Z",
     "shell.execute_reply": "2025-04-13T03:09:57.820626Z"
    },
    "papermill": {
     "duration": 0.01817,
     "end_time": "2025-04-13T03:09:57.823681",
     "exception": false,
     "start_time": "2025-04-13T03:09:57.805511",
     "status": "completed"
    },
    "tags": []
   },
   "outputs": [],
   "source": [
    "import re\n",
    "def text_preprocessing(text):\n",
    "    text = re.sub(r'(@.*?)[\\s]', ' ', text)\n",
    "    text = re.sub(r'[0-9]+' , '' ,text)\n",
    "    text = re.sub(r'\\s([@][\\w_-]+)', '', text).strip()\n",
    "    text = re.sub(r'&amp;', '&', text)\n",
    "    text = re.sub(r'\\s+', ' ', text).strip()\n",
    "    text = text.replace(\"#\" , \" \")\n",
    "    encoded_string = text.encode(\"ascii\", \"ignore\")\n",
    "    decode_string = encoded_string.decode()\n",
    "    return decode_string"
   ]
  },
  {
   "cell_type": "markdown",
   "id": "30ca2a5d",
   "metadata": {
    "papermill": {
     "duration": 0.007755,
     "end_time": "2025-04-13T03:09:57.840348",
     "exception": false,
     "start_time": "2025-04-13T03:09:57.832593",
     "status": "completed"
    },
    "tags": []
   },
   "source": [
    "### Data Splitting"
   ]
  },
  {
   "cell_type": "code",
   "execution_count": 16,
   "id": "6845e67b",
   "metadata": {
    "execution": {
     "iopub.execute_input": "2025-04-13T03:09:57.857710Z",
     "iopub.status.busy": "2025-04-13T03:09:57.857011Z",
     "iopub.status.idle": "2025-04-13T03:09:57.860677Z",
     "shell.execute_reply": "2025-04-13T03:09:57.859861Z"
    },
    "papermill": {
     "duration": 0.01429,
     "end_time": "2025-04-13T03:09:57.862470",
     "exception": false,
     "start_time": "2025-04-13T03:09:57.848180",
     "status": "completed"
    },
    "tags": []
   },
   "outputs": [],
   "source": [
    "# split input and output\n",
    "#X = df['feedback_text']\n",
    "#y = df.drop(columns=['feedback_text'], axis=1)\n",
    "#X_train, X_test, y_train, y_test = train_test_split(X, y, test_size=0.2, random_state=42)"
   ]
  },
  {
   "cell_type": "code",
   "execution_count": 17,
   "id": "329c91df",
   "metadata": {
    "execution": {
     "iopub.execute_input": "2025-04-13T03:09:57.879579Z",
     "iopub.status.busy": "2025-04-13T03:09:57.878893Z",
     "iopub.status.idle": "2025-04-13T03:09:57.889505Z",
     "shell.execute_reply": "2025-04-13T03:09:57.888767Z"
    },
    "papermill": {
     "duration": 0.021093,
     "end_time": "2025-04-13T03:09:57.891444",
     "exception": false,
     "start_time": "2025-04-13T03:09:57.870351",
     "status": "completed"
    },
    "tags": []
   },
   "outputs": [],
   "source": [
    "X = train_data['feedback_text']\n",
    "Y = train_data.drop(columns=['feedback_text'], axis=1)\n",
    "X_train, X_test, y_train, y_test = train_test_split(X, Y, test_size=0.1, random_state=42)"
   ]
  },
  {
   "cell_type": "markdown",
   "id": "b48ba464",
   "metadata": {
    "papermill": {
     "duration": 0.007528,
     "end_time": "2025-04-13T03:09:57.906922",
     "exception": false,
     "start_time": "2025-04-13T03:09:57.899394",
     "status": "completed"
    },
    "tags": []
   },
   "source": [
    "### Tokenizing the Data"
   ]
  },
  {
   "cell_type": "code",
   "execution_count": 18,
   "id": "3eebcbcd",
   "metadata": {
    "execution": {
     "iopub.execute_input": "2025-04-13T03:09:57.923773Z",
     "iopub.status.busy": "2025-04-13T03:09:57.923286Z",
     "iopub.status.idle": "2025-04-13T03:10:08.622885Z",
     "shell.execute_reply": "2025-04-13T03:10:08.622031Z"
    },
    "papermill": {
     "duration": 10.710261,
     "end_time": "2025-04-13T03:10:08.625114",
     "exception": false,
     "start_time": "2025-04-13T03:09:57.914853",
     "status": "completed"
    },
    "tags": []
   },
   "outputs": [
    {
     "data": {
      "application/vnd.jupyter.widget-view+json": {
       "model_id": "69a53c2fde854e59aff6c00a7f3e90ef",
       "version_major": 2,
       "version_minor": 0
      },
      "text/plain": [
       "Downloading (…)\"vocab.txt\";:   0%|          | 0.00/232k [00:00<?, ?B/s]"
      ]
     },
     "metadata": {},
     "output_type": "display_data"
    },
    {
     "data": {
      "application/vnd.jupyter.widget-view+json": {
       "model_id": "024799475bb54519b358a66f679dd915",
       "version_major": 2,
       "version_minor": 0
      },
      "text/plain": [
       "Downloading (…)enizer_config.json\";:   0%|          | 0.00/48.0 [00:00<?, ?B/s]"
      ]
     },
     "metadata": {},
     "output_type": "display_data"
    },
    {
     "data": {
      "application/vnd.jupyter.widget-view+json": {
       "model_id": "1f6825b6acb943e2a636a243f79b8c82",
       "version_major": 2,
       "version_minor": 0
      },
      "text/plain": [
       "Downloading (…)\"config.json\";:   0%|          | 0.00/570 [00:00<?, ?B/s]"
      ]
     },
     "metadata": {},
     "output_type": "display_data"
    }
   ],
   "source": [
    "from transformers import BertTokenizer\n",
    "\n",
    "#Load the Bert tokenizer\n",
    "tokenizer = BertTokenizer.from_pretrained('bert-base-uncased',do_lower_case=True)\n",
    "\n",
    "# Create a funcition to tokenize a set of text\n",
    "\n",
    "def preprocessing_for_bert(data):\n",
    "    input_ids = []\n",
    "    attention_masks = []\n",
    "    \n",
    "    \n",
    "    for sent in data:\n",
    "        encoded_sent = tokenizer.encode_plus(\n",
    "            text = text_preprocessing(sent), #preprocess sentence\n",
    "            add_special_tokens = True,\n",
    "            max_length= MAX_LEN  ,\n",
    "            pad_to_max_length = True,     \n",
    "            return_attention_mask= True\n",
    "        )\n",
    "        # Add the outputs to the lists\n",
    "        input_ids.append(encoded_sent.get('input_ids'))\n",
    "        attention_masks.append(encoded_sent.get('attention_mask'))\n",
    "        \n",
    "    #convert lists to tensors\n",
    "    input_ids = torch.tensor(input_ids)\n",
    "    attention_masks = torch.tensor(attention_masks)\n",
    "    \n",
    "    return input_ids,attention_masks"
   ]
  },
  {
   "cell_type": "code",
   "execution_count": 19,
   "id": "78c2bbe4",
   "metadata": {
    "execution": {
     "iopub.execute_input": "2025-04-13T03:10:08.643753Z",
     "iopub.status.busy": "2025-04-13T03:10:08.642883Z",
     "iopub.status.idle": "2025-04-13T03:10:48.500566Z",
     "shell.execute_reply": "2025-04-13T03:10:48.499735Z"
    },
    "papermill": {
     "duration": 39.8692,
     "end_time": "2025-04-13T03:10:48.502976",
     "exception": false,
     "start_time": "2025-04-13T03:10:08.633776",
     "status": "completed"
    },
    "tags": []
   },
   "outputs": [
    {
     "name": "stderr",
     "output_type": "stream",
     "text": [
      "Truncation was not explicitly activated but `max_length` is provided a specific value, please use `truncation=True` to explicitly truncate examples to max length. Defaulting to 'longest_first' truncation strategy. If you encode pairs of sequences (GLUE-style) with the tokenizer you can select this strategy more precisely by providing a specific strategy to `truncation`.\n"
     ]
    },
    {
     "name": "stdout",
     "output_type": "stream",
     "text": [
      "Tokenizing data...\n"
     ]
    },
    {
     "name": "stderr",
     "output_type": "stream",
     "text": [
      "/opt/conda/lib/python3.7/site-packages/transformers/tokenization_utils_base.py:2345: FutureWarning: The `pad_to_max_length` argument is deprecated and will be removed in a future version, use `padding=True` or `padding='longest'` to pad to the longest sequence in the batch, or use `padding='max_length'` to pad to a max length. In this case, you can give a specific length with `max_length` (e.g. `max_length=45`) or leave max_length to None to pad to the maximal input size of the model (e.g. 512 for Bert).\n",
      "  FutureWarning,\n"
     ]
    }
   ],
   "source": [
    "MAX_LEN = 150\n",
    "# Get input ids and attention masks after preprocessing the text\n",
    "print('Tokenizing data...')\n",
    "train_inputs, train_masks = preprocessing_for_bert(X_train)\n",
    "test_inputs, test_masks = preprocessing_for_bert(X_test)"
   ]
  },
  {
   "cell_type": "markdown",
   "id": "8ff7f82b",
   "metadata": {
    "papermill": {
     "duration": 0.008076,
     "end_time": "2025-04-13T03:10:48.519810",
     "exception": false,
     "start_time": "2025-04-13T03:10:48.511734",
     "status": "completed"
    },
    "tags": []
   },
   "source": [
    "### Creating Data Loaders"
   ]
  },
  {
   "cell_type": "code",
   "execution_count": 20,
   "id": "15a58a2d",
   "metadata": {
    "execution": {
     "iopub.execute_input": "2025-04-13T03:10:48.537908Z",
     "iopub.status.busy": "2025-04-13T03:10:48.537217Z",
     "iopub.status.idle": "2025-04-13T03:10:48.541601Z",
     "shell.execute_reply": "2025-04-13T03:10:48.540725Z"
    },
    "papermill": {
     "duration": 0.015449,
     "end_time": "2025-04-13T03:10:48.543362",
     "exception": false,
     "start_time": "2025-04-13T03:10:48.527913",
     "status": "completed"
    },
    "tags": []
   },
   "outputs": [],
   "source": [
    "#from torch.utils.data import TensorDataset, DataLoader, RandomSampler, SequentialSampler\n",
    "\n",
    "# Convert other data types to torch.Tensor\n",
    "#train_labels = torch.tensor(y_train)\n",
    "#test_labels = torch.tensor(y_test)\n",
    "\n",
    "## For fine-tuning Bert, the authors recommmend a batch size of 16 or 32\n",
    "#batch_size = 32\n",
    "\n",
    "# Create the DataLoader for our training set\n",
    "#train_data = TensorDataset(train_inputs,train_masks, train_labels)\n",
    "#train_sampler = RandomSampler(train_data)\n",
    "#train_dataloader = DataLoader(train_data, sampler=train_sampler, batch_size=batch_size)\n",
    "\n",
    "# Create the DataLoader for our validation set\n",
    "#test_data = TensorDataset(test_inputs, test_masks, test_labels)\n",
    "#test_sampler = SequentialSampler(test_data)\n",
    "#test_dataloader = DataLoader(test_data, sampler=test_sampler, batch_size=batch_size)"
   ]
  },
  {
   "cell_type": "markdown",
   "id": "018f82ed",
   "metadata": {
    "papermill": {
     "duration": 0.007908,
     "end_time": "2025-04-13T03:10:48.559515",
     "exception": false,
     "start_time": "2025-04-13T03:10:48.551607",
     "status": "completed"
    },
    "tags": []
   },
   "source": [
    "## Modeling"
   ]
  },
  {
   "cell_type": "code",
   "execution_count": 21,
   "id": "ab9c1a4b",
   "metadata": {
    "execution": {
     "iopub.execute_input": "2025-04-13T03:10:48.577104Z",
     "iopub.status.busy": "2025-04-13T03:10:48.576535Z",
     "iopub.status.idle": "2025-04-13T03:10:49.296212Z",
     "shell.execute_reply": "2025-04-13T03:10:49.295247Z"
    },
    "papermill": {
     "duration": 0.730961,
     "end_time": "2025-04-13T03:10:49.298548",
     "exception": false,
     "start_time": "2025-04-13T03:10:48.567587",
     "status": "completed"
    },
    "tags": []
   },
   "outputs": [],
   "source": [
    "import torch\n",
    "import torch.nn as nn\n",
    "from transformers import BertModel\n",
    "\n",
    "# Create the BertClassifier class\n",
    "\n",
    "class BertClassifier(nn.Module):\n",
    "    \n",
    "    def __init__(self, freeze_bert=False):\n",
    "        super(BertClassifier,self).__init__()\n",
    "        \n",
    "        # Specify hidden size of Bert, hidden size of our classifier, and number of labels\n",
    "        D_in, H, D_out = 768, 50 , 6\n",
    "        \n",
    "        self.bert = BertModel.from_pretrained('bert-base-uncased')\n",
    "        \n",
    "        self.classifier = nn.Sequential(\n",
    "                            nn.Linear(D_in, H),\n",
    "                            nn.ReLU(),\n",
    "                            nn.Linear(H, D_out))\n",
    "        \n",
    "        # Freeze the Bert Model\n",
    "        if freeze_bert:\n",
    "            for param in self.bert.parameters():\n",
    "                param.requires_grad = False\n",
    "    \n",
    "    def forward(self,input_ids,attention_mask):\n",
    "\n",
    "        outputs = self.bert(input_ids=input_ids,\n",
    "                           attention_mask = attention_mask)\n",
    "        \n",
    "        # Extract the last hidden state of the token `[CLS]` for classification task\n",
    "        last_hidden_state_cls = outputs[0][:,0,:]\n",
    "        \n",
    "        # Feed input to classifier to compute logits\n",
    "        logits = self.classifier(last_hidden_state_cls)\n",
    "        \n",
    "        return logits"
   ]
  },
  {
   "cell_type": "markdown",
   "id": "27a2e7f6",
   "metadata": {
    "papermill": {
     "duration": 0.008415,
     "end_time": "2025-04-13T03:10:49.315690",
     "exception": false,
     "start_time": "2025-04-13T03:10:49.307275",
     "status": "completed"
    },
    "tags": []
   },
   "source": [
    "### An Initializer Function for Bert Classifier"
   ]
  },
  {
   "cell_type": "code",
   "execution_count": 22,
   "id": "09e7c320",
   "metadata": {
    "execution": {
     "iopub.execute_input": "2025-04-13T03:10:49.333641Z",
     "iopub.status.busy": "2025-04-13T03:10:49.333341Z",
     "iopub.status.idle": "2025-04-13T03:10:49.344316Z",
     "shell.execute_reply": "2025-04-13T03:10:49.343659Z"
    },
    "papermill": {
     "duration": 0.022333,
     "end_time": "2025-04-13T03:10:49.346138",
     "exception": false,
     "start_time": "2025-04-13T03:10:49.323805",
     "status": "completed"
    },
    "tags": []
   },
   "outputs": [],
   "source": [
    "from transformers import AdamW, get_linear_schedule_with_warmup\n",
    "\n",
    "def initialize_model(epochs=4):\n",
    "\n",
    "    # Define Bert Classifier\n",
    "    bert_classifier = BertClassifier(freeze_bert=False)\n",
    "    \n",
    "    bert_classifier.to(device)\n",
    "    \n",
    "    # Create the optimizer\n",
    "    optimizer = AdamW(bert_classifier.parameters(),)\n",
    "    \n",
    "    # Total number of training steps\n",
    "    total_steps = len(train_dataloader) * epochs\n",
    "    \n",
    "    # Set up the learning rate scheduler\n",
    "    scheduler = get_linear_schedule_with_warmup(optimizer, \n",
    "                                              num_warmup_steps=0, # Default\n",
    "                                              num_training_steps=total_steps)\n",
    "    return bert_classifier, optimizer, scheduler"
   ]
  },
  {
   "cell_type": "code",
   "execution_count": 23,
   "id": "01f7134a",
   "metadata": {
    "execution": {
     "iopub.execute_input": "2025-04-13T03:10:49.363866Z",
     "iopub.status.busy": "2025-04-13T03:10:49.363330Z",
     "iopub.status.idle": "2025-04-13T03:10:49.367439Z",
     "shell.execute_reply": "2025-04-13T03:10:49.366601Z"
    },
    "papermill": {
     "duration": 0.014887,
     "end_time": "2025-04-13T03:10:49.369186",
     "exception": false,
     "start_time": "2025-04-13T03:10:49.354299",
     "status": "completed"
    },
    "tags": []
   },
   "outputs": [],
   "source": [
    "def set_seed(seed_value=42):\n",
    "\n",
    "    random.seed(seed_value)\n",
    "    np.random.seed(seed_value)\n",
    "    torch.manual_seed(seed_value)\n",
    "    torch.cuda.manual_seed_all(seed_value)"
   ]
  },
  {
   "cell_type": "markdown",
   "id": "75d08861",
   "metadata": {
    "papermill": {
     "duration": 0.00804,
     "end_time": "2025-04-13T03:10:49.385604",
     "exception": false,
     "start_time": "2025-04-13T03:10:49.377564",
     "status": "completed"
    },
    "tags": []
   },
   "source": [
    "### Creating a Trainer Function for initialized Bert Model"
   ]
  },
  {
   "cell_type": "code",
   "execution_count": 24,
   "id": "d322966e",
   "metadata": {
    "execution": {
     "iopub.execute_input": "2025-04-13T03:10:49.403138Z",
     "iopub.status.busy": "2025-04-13T03:10:49.402669Z",
     "iopub.status.idle": "2025-04-13T03:10:49.413844Z",
     "shell.execute_reply": "2025-04-13T03:10:49.412953Z"
    },
    "papermill": {
     "duration": 0.02182,
     "end_time": "2025-04-13T03:10:49.415567",
     "exception": false,
     "start_time": "2025-04-13T03:10:49.393747",
     "status": "completed"
    },
    "tags": []
   },
   "outputs": [],
   "source": [
    "import random\n",
    "import time\n",
    "\n",
    "# Specify loss function\n",
    "loss_fn = nn.BCEWithLogitsLoss()\n",
    "\n",
    "def train(model, train_dataloader, val_dataloader=None, epochs=4, evaluation=False):\n",
    "    \"\"\"Train the BertClassifier model.\n",
    "    \"\"\"\n",
    "    # Start training loop\n",
    "    print(\"Start training...\\n\")\n",
    "    for epoch_i in range(epochs):\n",
    "        # Print the header of the result table\n",
    "        print(f\"{'Epoch':^7} | {'Batch':^7} | {'Train Loss':^12} | {'Val Loss':^10} | {'Val Acc':^9} | {'Elapsed':^9}\")\n",
    "        print(\"-\"*70)\n",
    "\n",
    "        # Measure the elapsed time of each epoch\n",
    "        t0_epoch, t0_batch = time.time(), time.time()\n",
    "\n",
    "        # Reset tracking variables at the beginning of each epoch\n",
    "        total_loss, batch_loss, batch_counts = 0, 0, 0\n",
    "\n",
    "        # Put the model into the training mode\n",
    "        model.train()\n",
    "\n",
    "        # For each batch of training data...\n",
    "        for step, batch in enumerate(train_dataloader):\n",
    "            batch_counts +=1\n",
    "            # Load batch to GPU\n",
    "            b_input_ids, b_attn_mask, b_labels = tuple(t.to(device) for t in batch)\n",
    "\n",
    "            # Zero out any previously calculated gradients\n",
    "            optimizer.zero_grad()\n",
    "\n",
    "            # Perform a forward pass. This will return logits.\n",
    "            logits = model(b_input_ids, b_attn_mask)\n",
    "\n",
    "            # Compute loss and accumulate the loss values\n",
    "            loss = loss_fn(logits, b_labels.float())\n",
    "            batch_loss += loss.item()\n",
    "            total_loss += loss.item()\n",
    "\n",
    "            # Perform a backward pass to calculate gradients\n",
    "            loss.backward()\n",
    "\n",
    "            # Clip the norm of the gradients to 1.0 to prevent \"exploding gradients\"\n",
    "            torch.nn.utils.clip_grad_norm_(model.parameters(), 1.0)\n",
    "\n",
    "            # Update parameters and the learning rate\n",
    "            optimizer.step()\n",
    "            scheduler.step()\n",
    "\n",
    "            # Print the loss values and time elapsed for every 20--50000 batches\n",
    "            if (step % 50000 == 0 and step != 0) or (step == len(train_dataloader) - 1):\n",
    "                # Calculate time elapsed for 20 batches\n",
    "                time_elapsed = time.time() - t0_batch\n",
    "\n",
    "                # Print training results\n",
    "                print(f\"{epoch_i + 1:^7} | {step:^7} | {batch_loss / batch_counts:^12.6f} | {'-':^10} | {'-':^9} | {time_elapsed:^9.2f}\")\n",
    "\n",
    "                # Reset batch tracking variables\n",
    "                batch_loss, batch_counts = 0, 0\n",
    "                t0_batch = time.time()\n",
    "\n",
    "        # Calculate the average loss over the entire training data\n",
    "        avg_train_loss = total_loss / len(train_dataloader)\n",
    "\n",
    "        print(\"-\"*70) # printing for visualization\n",
    "        \n",
    "        if evaluation == True:\n",
    "            # After the completion of each training epoch, measure the model's performance\n",
    "            # on our validation set.\n",
    "            val_loss, val_accuracy = evaluate(model, val_dataloader)\n",
    "\n",
    "            # Print the time for training\n",
    "            time_elapsed = time.time() - t0_epoch\n",
    "            \n",
    "            # printing for visualization\n",
    "            print(f\"{epoch_i + 1:^7} | {'-':^7} | {avg_train_loss:^12.6f} | {val_loss:^10.6f} | {val_accuracy:^9.2f} | {time_elapsed:^9.2f}\")\n",
    "            print(\"-\"*70)\n",
    "        print(\"\\n\")\n",
    "    \n",
    "    print(\"Training complete!\")\n"
   ]
  },
  {
   "cell_type": "markdown",
   "id": "3d10e3e9",
   "metadata": {
    "papermill": {
     "duration": 0.008031,
     "end_time": "2025-04-13T03:10:49.432839",
     "exception": false,
     "start_time": "2025-04-13T03:10:49.424808",
     "status": "completed"
    },
    "tags": []
   },
   "source": [
    "### Evaluation Function to calculate loss and accuracy of the classifier"
   ]
  },
  {
   "cell_type": "code",
   "execution_count": 25,
   "id": "5c2290f9",
   "metadata": {
    "execution": {
     "iopub.execute_input": "2025-04-13T03:10:49.450575Z",
     "iopub.status.busy": "2025-04-13T03:10:49.450237Z",
     "iopub.status.idle": "2025-04-13T03:10:49.457743Z",
     "shell.execute_reply": "2025-04-13T03:10:49.456967Z"
    },
    "papermill": {
     "duration": 0.018498,
     "end_time": "2025-04-13T03:10:49.459450",
     "exception": false,
     "start_time": "2025-04-13T03:10:49.440952",
     "status": "completed"
    },
    "tags": []
   },
   "outputs": [],
   "source": [
    "def evaluate(model, val_dataloader):\n",
    "\n",
    "    #Evaluation mode\n",
    "    model.eval()\n",
    "\n",
    "    # Tracking variables\n",
    "    val_accuracy = []\n",
    "    val_loss = []\n",
    "\n",
    "    # For each batch in our validation set...\n",
    "    for batch in val_dataloader:\n",
    "        # Load batch to GPU\n",
    "        b_input_ids, b_attn_mask, b_labels = tuple(t.to(device) for t in batch)\n",
    "\n",
    "        # Compute logits\n",
    "        with torch.no_grad():\n",
    "            logits = model(b_input_ids, b_attn_mask)\n",
    "\n",
    "        # Compute loss\n",
    "        loss = loss_fn(logits, b_labels.float())\n",
    "        val_loss.append(loss.item())\n",
    "        \n",
    "        # Calculate the accuracy rate\n",
    "        accuracy = accuracy_thresh(logits.view(-1,6),b_labels.view(-1,6))\n",
    "        \n",
    "        val_accuracy.append(accuracy)\n",
    "\n",
    "    # Compute the average accuracy and loss over the validation set.\n",
    "    val_loss = np.mean(val_loss)\n",
    "    val_accuracy = np.mean(val_accuracy)\n",
    "\n",
    "    return val_loss, val_accuracy\n",
    "\n",
    "def accuracy_thresh(y_pred, y_true, thresh:float=0.5, sigmoid:bool=True):\n",
    "    \"Compute accuracy\"\n",
    "    if sigmoid: \n",
    "        y_pred = y_pred.sigmoid()\n",
    "    return ((y_pred>thresh)==y_true.byte()).float().mean().item()"
   ]
  },
  {
   "cell_type": "markdown",
   "id": "1e646a88",
   "metadata": {
    "papermill": {
     "duration": 0.007869,
     "end_time": "2025-04-13T03:10:49.475512",
     "exception": false,
     "start_time": "2025-04-13T03:10:49.467643",
     "status": "completed"
    },
    "tags": []
   },
   "source": [
    "### A Prediction method to predict test set with the classifier"
   ]
  },
  {
   "cell_type": "code",
   "execution_count": 26,
   "id": "57f9dfb3",
   "metadata": {
    "execution": {
     "iopub.execute_input": "2025-04-13T03:10:49.492647Z",
     "iopub.status.busy": "2025-04-13T03:10:49.492381Z",
     "iopub.status.idle": "2025-04-13T03:10:49.497779Z",
     "shell.execute_reply": "2025-04-13T03:10:49.496992Z"
    },
    "papermill": {
     "duration": 0.016005,
     "end_time": "2025-04-13T03:10:49.499522",
     "exception": false,
     "start_time": "2025-04-13T03:10:49.483517",
     "status": "completed"
    },
    "tags": []
   },
   "outputs": [],
   "source": [
    "import torch.nn.functional as F\n",
    "\n",
    "def bert_predict(model, test_dataloader):\n",
    "\n",
    "    model.eval()\n",
    "\n",
    "    all_logits = []\n",
    "\n",
    "    # For each batch in our test set...\n",
    "    for batch in test_dataloader:\n",
    "        # Load batch to GPU\n",
    "        b_input_ids, b_attn_mask = tuple(t.to(device) for t in batch)[:2]\n",
    "\n",
    "        # Compute logits\n",
    "        with torch.no_grad():\n",
    "            logits = model(b_input_ids, b_attn_mask)\n",
    "        all_logits.append(logits)\n",
    "    \n",
    "    # Concatenate logits from each batch\n",
    "    all_logits = torch.cat(all_logits, dim=0)\n",
    "    \n",
    "    #print(probs)\n",
    "    # Apply softmax to calculate probabilities\n",
    "    probs = all_logits.sigmoid().cpu().numpy()\n",
    "    \n",
    "\n",
    "    return probs"
   ]
  },
  {
   "cell_type": "markdown",
   "id": "46257d6b",
   "metadata": {
    "papermill": {
     "duration": 0.007938,
     "end_time": "2025-04-13T03:10:49.515483",
     "exception": false,
     "start_time": "2025-04-13T03:10:49.507545",
     "status": "completed"
    },
    "tags": []
   },
   "source": [
    "### Training on the whole data"
   ]
  },
  {
   "cell_type": "code",
   "execution_count": 27,
   "id": "4ac08cec",
   "metadata": {
    "execution": {
     "iopub.execute_input": "2025-04-13T03:10:49.533055Z",
     "iopub.status.busy": "2025-04-13T03:10:49.532340Z",
     "iopub.status.idle": "2025-04-13T03:10:49.536283Z",
     "shell.execute_reply": "2025-04-13T03:10:49.535403Z"
    },
    "papermill": {
     "duration": 0.014563,
     "end_time": "2025-04-13T03:10:49.538110",
     "exception": false,
     "start_time": "2025-04-13T03:10:49.523547",
     "status": "completed"
    },
    "tags": []
   },
   "outputs": [],
   "source": [
    "# Concatenate the train set and the validation set\n",
    "#all_train_data = torch.utils.data.ConcatDataset([train_data, test_data])\n",
    "#all_train_sampler = RandomSampler(all_train_data)\n",
    "#all_train_dataloader = DataLoader(all_train_data, sampler=all_train_sampler, batch_size=32 )\n",
    "\n",
    "# Train the Bert Classifier on the entire training data\n",
    "#set_seed(42)\n",
    "#bert_classifier, optimizer, scheduler = initialize_model(epochs=4)\n",
    "#train(bert_classifier, all_train_dataloader, epochs=4)"
   ]
  },
  {
   "cell_type": "code",
   "execution_count": 28,
   "id": "85194b97",
   "metadata": {
    "execution": {
     "iopub.execute_input": "2025-04-13T03:10:49.555747Z",
     "iopub.status.busy": "2025-04-13T03:10:49.555064Z",
     "iopub.status.idle": "2025-04-13T03:10:49.558793Z",
     "shell.execute_reply": "2025-04-13T03:10:49.557939Z"
    },
    "papermill": {
     "duration": 0.01447,
     "end_time": "2025-04-13T03:10:49.560629",
     "exception": false,
     "start_time": "2025-04-13T03:10:49.546159",
     "status": "completed"
    },
    "tags": []
   },
   "outputs": [],
   "source": [
    "#print('Tokenizing data...')\n",
    "#test_inputs, test_masks = preprocessing_for_bert(test_data.content)\n",
    "\n",
    "# Create the DataLoader for our test set\n",
    "#test_dataset = TensorDataset(test_inputs, test_masks)\n",
    "\n",
    "# No sampling to test on all test data\n",
    "#test_dataloader = DataLoader(test_dataset, shuffle=False, batch_size=32)"
   ]
  },
  {
   "cell_type": "code",
   "execution_count": 29,
   "id": "b16561c4",
   "metadata": {
    "execution": {
     "iopub.execute_input": "2025-04-13T03:10:49.577942Z",
     "iopub.status.busy": "2025-04-13T03:10:49.577417Z",
     "iopub.status.idle": "2025-04-13T03:10:49.580752Z",
     "shell.execute_reply": "2025-04-13T03:10:49.580042Z"
    },
    "papermill": {
     "duration": 0.013852,
     "end_time": "2025-04-13T03:10:49.582513",
     "exception": false,
     "start_time": "2025-04-13T03:10:49.568661",
     "status": "completed"
    },
    "tags": []
   },
   "outputs": [],
   "source": [
    "# Get probabilites of predictions\n",
    "#probs = bert_predict(bert_classifier, test_dataloader)"
   ]
  },
  {
   "cell_type": "code",
   "execution_count": 30,
   "id": "efb2afe0",
   "metadata": {
    "execution": {
     "iopub.execute_input": "2025-04-13T03:10:49.599886Z",
     "iopub.status.busy": "2025-04-13T03:10:49.599344Z",
     "iopub.status.idle": "2025-04-13T03:10:49.602690Z",
     "shell.execute_reply": "2025-04-13T03:10:49.601884Z"
    },
    "papermill": {
     "duration": 0.013908,
     "end_time": "2025-04-13T03:10:49.604501",
     "exception": false,
     "start_time": "2025-04-13T03:10:49.590593",
     "status": "completed"
    },
    "tags": []
   },
   "outputs": [],
   "source": [
    "#submission = pd.DataFrame(probs,columns=['toxic', 'abusive', 'vulgar', 'menace', 'offense', 'bigotry'])\n",
    "#test_data[['toxic', 'abusive', 'vulgar', 'menace', 'offense', 'bigotry']]=submission\n",
    "#final_sub = test_data[['id','toxic', 'abusive', 'vulgar', 'menace', 'offense', 'bigotry']]\n",
    "#final_sub.head()"
   ]
  },
  {
   "cell_type": "code",
   "execution_count": 31,
   "id": "3d597e5b",
   "metadata": {
    "execution": {
     "iopub.execute_input": "2025-04-13T03:10:49.621999Z",
     "iopub.status.busy": "2025-04-13T03:10:49.621468Z",
     "iopub.status.idle": "2025-04-13T03:10:49.624703Z",
     "shell.execute_reply": "2025-04-13T03:10:49.623892Z"
    },
    "papermill": {
     "duration": 0.013814,
     "end_time": "2025-04-13T03:10:49.626496",
     "exception": false,
     "start_time": "2025-04-13T03:10:49.612682",
     "status": "completed"
    },
    "tags": []
   },
   "outputs": [],
   "source": [
    "#final_sub.to_csv('submissions.csv',index=False)\n",
    "#final_sub.head()"
   ]
  }
 ],
 "metadata": {
  "kaggle": {
   "accelerator": "gpu",
   "dataSources": [
    {
     "datasetId": 7112582,
     "sourceId": 11375581,
     "sourceType": "datasetVersion"
    }
   ],
   "dockerImageVersionId": 30408,
   "isGpuEnabled": true,
   "isInternetEnabled": true,
   "language": "python",
   "sourceType": "notebook"
  },
  "kernelspec": {
   "display_name": "Python 3",
   "language": "python",
   "name": "python3"
  },
  "language_info": {
   "codemirror_mode": {
    "name": "ipython",
    "version": 3
   },
   "file_extension": ".py",
   "mimetype": "text/x-python",
   "name": "python",
   "nbconvert_exporter": "python",
   "pygments_lexer": "ipython3",
   "version": "3.7.12"
  },
  "papermill": {
   "default_parameters": {},
   "duration": 71.750566,
   "end_time": "2025-04-13T03:10:52.379014",
   "environment_variables": {},
   "exception": null,
   "input_path": "__notebook__.ipynb",
   "output_path": "__notebook__.ipynb",
   "parameters": {},
   "start_time": "2025-04-13T03:09:40.628448",
   "version": "2.4.0"
  },
  "widgets": {
   "application/vnd.jupyter.widget-state+json": {
    "state": {
     "024799475bb54519b358a66f679dd915": {
      "model_module": "@jupyter-widgets/controls",
      "model_module_version": "1.5.0",
      "model_name": "HBoxModel",
      "state": {
       "_dom_classes": [],
       "_model_module": "@jupyter-widgets/controls",
       "_model_module_version": "1.5.0",
       "_model_name": "HBoxModel",
       "_view_count": null,
       "_view_module": "@jupyter-widgets/controls",
       "_view_module_version": "1.5.0",
       "_view_name": "HBoxView",
       "box_style": "",
       "children": [
        "IPY_MODEL_190aab5d800f4a05a8fd024b393b25b7",
        "IPY_MODEL_315eedc6dbfa42dfa78e09776fb5217a",
        "IPY_MODEL_a14704df8baa47e5b2486b2912865607"
       ],
       "layout": "IPY_MODEL_f21bf9d4307e4685a89259e439f5ab8a"
      }
     },
     "0cd3d09cb21f461ca4d8bc3ebc395934": {
      "model_module": "@jupyter-widgets/base",
      "model_module_version": "1.2.0",
      "model_name": "LayoutModel",
      "state": {
       "_model_module": "@jupyter-widgets/base",
       "_model_module_version": "1.2.0",
       "_model_name": "LayoutModel",
       "_view_count": null,
       "_view_module": "@jupyter-widgets/base",
       "_view_module_version": "1.2.0",
       "_view_name": "LayoutView",
       "align_content": null,
       "align_items": null,
       "align_self": null,
       "border": null,
       "bottom": null,
       "display": null,
       "flex": null,
       "flex_flow": null,
       "grid_area": null,
       "grid_auto_columns": null,
       "grid_auto_flow": null,
       "grid_auto_rows": null,
       "grid_column": null,
       "grid_gap": null,
       "grid_row": null,
       "grid_template_areas": null,
       "grid_template_columns": null,
       "grid_template_rows": null,
       "height": null,
       "justify_content": null,
       "justify_items": null,
       "left": null,
       "margin": null,
       "max_height": null,
       "max_width": null,
       "min_height": null,
       "min_width": null,
       "object_fit": null,
       "object_position": null,
       "order": null,
       "overflow": null,
       "overflow_x": null,
       "overflow_y": null,
       "padding": null,
       "right": null,
       "top": null,
       "visibility": null,
       "width": null
      }
     },
     "190aab5d800f4a05a8fd024b393b25b7": {
      "model_module": "@jupyter-widgets/controls",
      "model_module_version": "1.5.0",
      "model_name": "HTMLModel",
      "state": {
       "_dom_classes": [],
       "_model_module": "@jupyter-widgets/controls",
       "_model_module_version": "1.5.0",
       "_model_name": "HTMLModel",
       "_view_count": null,
       "_view_module": "@jupyter-widgets/controls",
       "_view_module_version": "1.5.0",
       "_view_name": "HTMLView",
       "description": "",
       "description_tooltip": null,
       "layout": "IPY_MODEL_d94a04d90c144470a53a82d3744e89a1",
       "placeholder": "​",
       "style": "IPY_MODEL_399681178845467ea58e6be22a58b8fa",
       "value": "Downloading (…)enizer_config.json&quot;;: 100%"
      }
     },
     "1c6078ff413c4b659e5deb02dce2a45c": {
      "model_module": "@jupyter-widgets/controls",
      "model_module_version": "1.5.0",
      "model_name": "DescriptionStyleModel",
      "state": {
       "_model_module": "@jupyter-widgets/controls",
       "_model_module_version": "1.5.0",
       "_model_name": "DescriptionStyleModel",
       "_view_count": null,
       "_view_module": "@jupyter-widgets/base",
       "_view_module_version": "1.2.0",
       "_view_name": "StyleView",
       "description_width": ""
      }
     },
     "1ca70f457385428a8d5da25f11a9755f": {
      "model_module": "@jupyter-widgets/base",
      "model_module_version": "1.2.0",
      "model_name": "LayoutModel",
      "state": {
       "_model_module": "@jupyter-widgets/base",
       "_model_module_version": "1.2.0",
       "_model_name": "LayoutModel",
       "_view_count": null,
       "_view_module": "@jupyter-widgets/base",
       "_view_module_version": "1.2.0",
       "_view_name": "LayoutView",
       "align_content": null,
       "align_items": null,
       "align_self": null,
       "border": null,
       "bottom": null,
       "display": null,
       "flex": null,
       "flex_flow": null,
       "grid_area": null,
       "grid_auto_columns": null,
       "grid_auto_flow": null,
       "grid_auto_rows": null,
       "grid_column": null,
       "grid_gap": null,
       "grid_row": null,
       "grid_template_areas": null,
       "grid_template_columns": null,
       "grid_template_rows": null,
       "height": null,
       "justify_content": null,
       "justify_items": null,
       "left": null,
       "margin": null,
       "max_height": null,
       "max_width": null,
       "min_height": null,
       "min_width": null,
       "object_fit": null,
       "object_position": null,
       "order": null,
       "overflow": null,
       "overflow_x": null,
       "overflow_y": null,
       "padding": null,
       "right": null,
       "top": null,
       "visibility": null,
       "width": null
      }
     },
     "1f6825b6acb943e2a636a243f79b8c82": {
      "model_module": "@jupyter-widgets/controls",
      "model_module_version": "1.5.0",
      "model_name": "HBoxModel",
      "state": {
       "_dom_classes": [],
       "_model_module": "@jupyter-widgets/controls",
       "_model_module_version": "1.5.0",
       "_model_name": "HBoxModel",
       "_view_count": null,
       "_view_module": "@jupyter-widgets/controls",
       "_view_module_version": "1.5.0",
       "_view_name": "HBoxView",
       "box_style": "",
       "children": [
        "IPY_MODEL_cc6014f99d064da9a01c9a05ae78d26b",
        "IPY_MODEL_b37e593e56bd4d9d87ea58335c192c08",
        "IPY_MODEL_cab321637a6c4030b8cc051dc0c548d8"
       ],
       "layout": "IPY_MODEL_1ca70f457385428a8d5da25f11a9755f"
      }
     },
     "2e041565f33041b496296a5310d7637d": {
      "model_module": "@jupyter-widgets/controls",
      "model_module_version": "1.5.0",
      "model_name": "DescriptionStyleModel",
      "state": {
       "_model_module": "@jupyter-widgets/controls",
       "_model_module_version": "1.5.0",
       "_model_name": "DescriptionStyleModel",
       "_view_count": null,
       "_view_module": "@jupyter-widgets/base",
       "_view_module_version": "1.2.0",
       "_view_name": "StyleView",
       "description_width": ""
      }
     },
     "315eedc6dbfa42dfa78e09776fb5217a": {
      "model_module": "@jupyter-widgets/controls",
      "model_module_version": "1.5.0",
      "model_name": "FloatProgressModel",
      "state": {
       "_dom_classes": [],
       "_model_module": "@jupyter-widgets/controls",
       "_model_module_version": "1.5.0",
       "_model_name": "FloatProgressModel",
       "_view_count": null,
       "_view_module": "@jupyter-widgets/controls",
       "_view_module_version": "1.5.0",
       "_view_name": "ProgressView",
       "bar_style": "success",
       "description": "",
       "description_tooltip": null,
       "layout": "IPY_MODEL_814ce03652094827be84bacb18832195",
       "max": 48.0,
       "min": 0.0,
       "orientation": "horizontal",
       "style": "IPY_MODEL_b1c749b92a214ddeb773f416b7395b01",
       "value": 48.0
      }
     },
     "399681178845467ea58e6be22a58b8fa": {
      "model_module": "@jupyter-widgets/controls",
      "model_module_version": "1.5.0",
      "model_name": "DescriptionStyleModel",
      "state": {
       "_model_module": "@jupyter-widgets/controls",
       "_model_module_version": "1.5.0",
       "_model_name": "DescriptionStyleModel",
       "_view_count": null,
       "_view_module": "@jupyter-widgets/base",
       "_view_module_version": "1.2.0",
       "_view_name": "StyleView",
       "description_width": ""
      }
     },
     "5c62cb42a1da4d629063489f370e445b": {
      "model_module": "@jupyter-widgets/base",
      "model_module_version": "1.2.0",
      "model_name": "LayoutModel",
      "state": {
       "_model_module": "@jupyter-widgets/base",
       "_model_module_version": "1.2.0",
       "_model_name": "LayoutModel",
       "_view_count": null,
       "_view_module": "@jupyter-widgets/base",
       "_view_module_version": "1.2.0",
       "_view_name": "LayoutView",
       "align_content": null,
       "align_items": null,
       "align_self": null,
       "border": null,
       "bottom": null,
       "display": null,
       "flex": null,
       "flex_flow": null,
       "grid_area": null,
       "grid_auto_columns": null,
       "grid_auto_flow": null,
       "grid_auto_rows": null,
       "grid_column": null,
       "grid_gap": null,
       "grid_row": null,
       "grid_template_areas": null,
       "grid_template_columns": null,
       "grid_template_rows": null,
       "height": null,
       "justify_content": null,
       "justify_items": null,
       "left": null,
       "margin": null,
       "max_height": null,
       "max_width": null,
       "min_height": null,
       "min_width": null,
       "object_fit": null,
       "object_position": null,
       "order": null,
       "overflow": null,
       "overflow_x": null,
       "overflow_y": null,
       "padding": null,
       "right": null,
       "top": null,
       "visibility": null,
       "width": null
      }
     },
     "5d77e734adcc48cda004bf95877bc208": {
      "model_module": "@jupyter-widgets/base",
      "model_module_version": "1.2.0",
      "model_name": "LayoutModel",
      "state": {
       "_model_module": "@jupyter-widgets/base",
       "_model_module_version": "1.2.0",
       "_model_name": "LayoutModel",
       "_view_count": null,
       "_view_module": "@jupyter-widgets/base",
       "_view_module_version": "1.2.0",
       "_view_name": "LayoutView",
       "align_content": null,
       "align_items": null,
       "align_self": null,
       "border": null,
       "bottom": null,
       "display": null,
       "flex": null,
       "flex_flow": null,
       "grid_area": null,
       "grid_auto_columns": null,
       "grid_auto_flow": null,
       "grid_auto_rows": null,
       "grid_column": null,
       "grid_gap": null,
       "grid_row": null,
       "grid_template_areas": null,
       "grid_template_columns": null,
       "grid_template_rows": null,
       "height": null,
       "justify_content": null,
       "justify_items": null,
       "left": null,
       "margin": null,
       "max_height": null,
       "max_width": null,
       "min_height": null,
       "min_width": null,
       "object_fit": null,
       "object_position": null,
       "order": null,
       "overflow": null,
       "overflow_x": null,
       "overflow_y": null,
       "padding": null,
       "right": null,
       "top": null,
       "visibility": null,
       "width": null
      }
     },
     "60c3ae07021849198add1de50f64cc08": {
      "model_module": "@jupyter-widgets/controls",
      "model_module_version": "1.5.0",
      "model_name": "DescriptionStyleModel",
      "state": {
       "_model_module": "@jupyter-widgets/controls",
       "_model_module_version": "1.5.0",
       "_model_name": "DescriptionStyleModel",
       "_view_count": null,
       "_view_module": "@jupyter-widgets/base",
       "_view_module_version": "1.2.0",
       "_view_name": "StyleView",
       "description_width": ""
      }
     },
     "69a53c2fde854e59aff6c00a7f3e90ef": {
      "model_module": "@jupyter-widgets/controls",
      "model_module_version": "1.5.0",
      "model_name": "HBoxModel",
      "state": {
       "_dom_classes": [],
       "_model_module": "@jupyter-widgets/controls",
       "_model_module_version": "1.5.0",
       "_model_name": "HBoxModel",
       "_view_count": null,
       "_view_module": "@jupyter-widgets/controls",
       "_view_module_version": "1.5.0",
       "_view_name": "HBoxView",
       "box_style": "",
       "children": [
        "IPY_MODEL_cee9e27de16142d39b761383f261ec2c",
        "IPY_MODEL_df499aa15f474349bb5e04322ffffa01",
        "IPY_MODEL_85968acda3a74807a770e1eb9c65a0eb"
       ],
       "layout": "IPY_MODEL_5d77e734adcc48cda004bf95877bc208"
      }
     },
     "715ce933b66b4edbb076a1df30dacd8c": {
      "model_module": "@jupyter-widgets/base",
      "model_module_version": "1.2.0",
      "model_name": "LayoutModel",
      "state": {
       "_model_module": "@jupyter-widgets/base",
       "_model_module_version": "1.2.0",
       "_model_name": "LayoutModel",
       "_view_count": null,
       "_view_module": "@jupyter-widgets/base",
       "_view_module_version": "1.2.0",
       "_view_name": "LayoutView",
       "align_content": null,
       "align_items": null,
       "align_self": null,
       "border": null,
       "bottom": null,
       "display": null,
       "flex": null,
       "flex_flow": null,
       "grid_area": null,
       "grid_auto_columns": null,
       "grid_auto_flow": null,
       "grid_auto_rows": null,
       "grid_column": null,
       "grid_gap": null,
       "grid_row": null,
       "grid_template_areas": null,
       "grid_template_columns": null,
       "grid_template_rows": null,
       "height": null,
       "justify_content": null,
       "justify_items": null,
       "left": null,
       "margin": null,
       "max_height": null,
       "max_width": null,
       "min_height": null,
       "min_width": null,
       "object_fit": null,
       "object_position": null,
       "order": null,
       "overflow": null,
       "overflow_x": null,
       "overflow_y": null,
       "padding": null,
       "right": null,
       "top": null,
       "visibility": null,
       "width": null
      }
     },
     "740c8c0991af4f8fb3f3759075a9a197": {
      "model_module": "@jupyter-widgets/controls",
      "model_module_version": "1.5.0",
      "model_name": "ProgressStyleModel",
      "state": {
       "_model_module": "@jupyter-widgets/controls",
       "_model_module_version": "1.5.0",
       "_model_name": "ProgressStyleModel",
       "_view_count": null,
       "_view_module": "@jupyter-widgets/base",
       "_view_module_version": "1.2.0",
       "_view_name": "StyleView",
       "bar_color": null,
       "description_width": ""
      }
     },
     "807da36714264dcd8094cf82ed66ce9b": {
      "model_module": "@jupyter-widgets/base",
      "model_module_version": "1.2.0",
      "model_name": "LayoutModel",
      "state": {
       "_model_module": "@jupyter-widgets/base",
       "_model_module_version": "1.2.0",
       "_model_name": "LayoutModel",
       "_view_count": null,
       "_view_module": "@jupyter-widgets/base",
       "_view_module_version": "1.2.0",
       "_view_name": "LayoutView",
       "align_content": null,
       "align_items": null,
       "align_self": null,
       "border": null,
       "bottom": null,
       "display": null,
       "flex": null,
       "flex_flow": null,
       "grid_area": null,
       "grid_auto_columns": null,
       "grid_auto_flow": null,
       "grid_auto_rows": null,
       "grid_column": null,
       "grid_gap": null,
       "grid_row": null,
       "grid_template_areas": null,
       "grid_template_columns": null,
       "grid_template_rows": null,
       "height": null,
       "justify_content": null,
       "justify_items": null,
       "left": null,
       "margin": null,
       "max_height": null,
       "max_width": null,
       "min_height": null,
       "min_width": null,
       "object_fit": null,
       "object_position": null,
       "order": null,
       "overflow": null,
       "overflow_x": null,
       "overflow_y": null,
       "padding": null,
       "right": null,
       "top": null,
       "visibility": null,
       "width": null
      }
     },
     "814ce03652094827be84bacb18832195": {
      "model_module": "@jupyter-widgets/base",
      "model_module_version": "1.2.0",
      "model_name": "LayoutModel",
      "state": {
       "_model_module": "@jupyter-widgets/base",
       "_model_module_version": "1.2.0",
       "_model_name": "LayoutModel",
       "_view_count": null,
       "_view_module": "@jupyter-widgets/base",
       "_view_module_version": "1.2.0",
       "_view_name": "LayoutView",
       "align_content": null,
       "align_items": null,
       "align_self": null,
       "border": null,
       "bottom": null,
       "display": null,
       "flex": null,
       "flex_flow": null,
       "grid_area": null,
       "grid_auto_columns": null,
       "grid_auto_flow": null,
       "grid_auto_rows": null,
       "grid_column": null,
       "grid_gap": null,
       "grid_row": null,
       "grid_template_areas": null,
       "grid_template_columns": null,
       "grid_template_rows": null,
       "height": null,
       "justify_content": null,
       "justify_items": null,
       "left": null,
       "margin": null,
       "max_height": null,
       "max_width": null,
       "min_height": null,
       "min_width": null,
       "object_fit": null,
       "object_position": null,
       "order": null,
       "overflow": null,
       "overflow_x": null,
       "overflow_y": null,
       "padding": null,
       "right": null,
       "top": null,
       "visibility": null,
       "width": null
      }
     },
     "85968acda3a74807a770e1eb9c65a0eb": {
      "model_module": "@jupyter-widgets/controls",
      "model_module_version": "1.5.0",
      "model_name": "HTMLModel",
      "state": {
       "_dom_classes": [],
       "_model_module": "@jupyter-widgets/controls",
       "_model_module_version": "1.5.0",
       "_model_name": "HTMLModel",
       "_view_count": null,
       "_view_module": "@jupyter-widgets/controls",
       "_view_module_version": "1.5.0",
       "_view_name": "HTMLView",
       "description": "",
       "description_tooltip": null,
       "layout": "IPY_MODEL_a15d8d50841f4eea939d27980ccdda4a",
       "placeholder": "​",
       "style": "IPY_MODEL_1c6078ff413c4b659e5deb02dce2a45c",
       "value": " 232k/232k [00:00&lt;00:00, 579kB/s]"
      }
     },
     "9348c5d563b74cb09aedf1699836aee7": {
      "model_module": "@jupyter-widgets/base",
      "model_module_version": "1.2.0",
      "model_name": "LayoutModel",
      "state": {
       "_model_module": "@jupyter-widgets/base",
       "_model_module_version": "1.2.0",
       "_model_name": "LayoutModel",
       "_view_count": null,
       "_view_module": "@jupyter-widgets/base",
       "_view_module_version": "1.2.0",
       "_view_name": "LayoutView",
       "align_content": null,
       "align_items": null,
       "align_self": null,
       "border": null,
       "bottom": null,
       "display": null,
       "flex": null,
       "flex_flow": null,
       "grid_area": null,
       "grid_auto_columns": null,
       "grid_auto_flow": null,
       "grid_auto_rows": null,
       "grid_column": null,
       "grid_gap": null,
       "grid_row": null,
       "grid_template_areas": null,
       "grid_template_columns": null,
       "grid_template_rows": null,
       "height": null,
       "justify_content": null,
       "justify_items": null,
       "left": null,
       "margin": null,
       "max_height": null,
       "max_width": null,
       "min_height": null,
       "min_width": null,
       "object_fit": null,
       "object_position": null,
       "order": null,
       "overflow": null,
       "overflow_x": null,
       "overflow_y": null,
       "padding": null,
       "right": null,
       "top": null,
       "visibility": null,
       "width": null
      }
     },
     "a14704df8baa47e5b2486b2912865607": {
      "model_module": "@jupyter-widgets/controls",
      "model_module_version": "1.5.0",
      "model_name": "HTMLModel",
      "state": {
       "_dom_classes": [],
       "_model_module": "@jupyter-widgets/controls",
       "_model_module_version": "1.5.0",
       "_model_name": "HTMLModel",
       "_view_count": null,
       "_view_module": "@jupyter-widgets/controls",
       "_view_module_version": "1.5.0",
       "_view_name": "HTMLView",
       "description": "",
       "description_tooltip": null,
       "layout": "IPY_MODEL_807da36714264dcd8094cf82ed66ce9b",
       "placeholder": "​",
       "style": "IPY_MODEL_d04e6f6384b24263bc2c97471b62f61b",
       "value": " 48.0/48.0 [00:00&lt;00:00, 2.23kB/s]"
      }
     },
     "a15d8d50841f4eea939d27980ccdda4a": {
      "model_module": "@jupyter-widgets/base",
      "model_module_version": "1.2.0",
      "model_name": "LayoutModel",
      "state": {
       "_model_module": "@jupyter-widgets/base",
       "_model_module_version": "1.2.0",
       "_model_name": "LayoutModel",
       "_view_count": null,
       "_view_module": "@jupyter-widgets/base",
       "_view_module_version": "1.2.0",
       "_view_name": "LayoutView",
       "align_content": null,
       "align_items": null,
       "align_self": null,
       "border": null,
       "bottom": null,
       "display": null,
       "flex": null,
       "flex_flow": null,
       "grid_area": null,
       "grid_auto_columns": null,
       "grid_auto_flow": null,
       "grid_auto_rows": null,
       "grid_column": null,
       "grid_gap": null,
       "grid_row": null,
       "grid_template_areas": null,
       "grid_template_columns": null,
       "grid_template_rows": null,
       "height": null,
       "justify_content": null,
       "justify_items": null,
       "left": null,
       "margin": null,
       "max_height": null,
       "max_width": null,
       "min_height": null,
       "min_width": null,
       "object_fit": null,
       "object_position": null,
       "order": null,
       "overflow": null,
       "overflow_x": null,
       "overflow_y": null,
       "padding": null,
       "right": null,
       "top": null,
       "visibility": null,
       "width": null
      }
     },
     "af53eab8928845dcbe5db71aebbb4b1d": {
      "model_module": "@jupyter-widgets/controls",
      "model_module_version": "1.5.0",
      "model_name": "ProgressStyleModel",
      "state": {
       "_model_module": "@jupyter-widgets/controls",
       "_model_module_version": "1.5.0",
       "_model_name": "ProgressStyleModel",
       "_view_count": null,
       "_view_module": "@jupyter-widgets/base",
       "_view_module_version": "1.2.0",
       "_view_name": "StyleView",
       "bar_color": null,
       "description_width": ""
      }
     },
     "b1c749b92a214ddeb773f416b7395b01": {
      "model_module": "@jupyter-widgets/controls",
      "model_module_version": "1.5.0",
      "model_name": "ProgressStyleModel",
      "state": {
       "_model_module": "@jupyter-widgets/controls",
       "_model_module_version": "1.5.0",
       "_model_name": "ProgressStyleModel",
       "_view_count": null,
       "_view_module": "@jupyter-widgets/base",
       "_view_module_version": "1.2.0",
       "_view_name": "StyleView",
       "bar_color": null,
       "description_width": ""
      }
     },
     "b37e593e56bd4d9d87ea58335c192c08": {
      "model_module": "@jupyter-widgets/controls",
      "model_module_version": "1.5.0",
      "model_name": "FloatProgressModel",
      "state": {
       "_dom_classes": [],
       "_model_module": "@jupyter-widgets/controls",
       "_model_module_version": "1.5.0",
       "_model_name": "FloatProgressModel",
       "_view_count": null,
       "_view_module": "@jupyter-widgets/controls",
       "_view_module_version": "1.5.0",
       "_view_name": "ProgressView",
       "bar_style": "success",
       "description": "",
       "description_tooltip": null,
       "layout": "IPY_MODEL_715ce933b66b4edbb076a1df30dacd8c",
       "max": 570.0,
       "min": 0.0,
       "orientation": "horizontal",
       "style": "IPY_MODEL_af53eab8928845dcbe5db71aebbb4b1d",
       "value": 570.0
      }
     },
     "c8a421e477d1469896c6f7d0755d2093": {
      "model_module": "@jupyter-widgets/base",
      "model_module_version": "1.2.0",
      "model_name": "LayoutModel",
      "state": {
       "_model_module": "@jupyter-widgets/base",
       "_model_module_version": "1.2.0",
       "_model_name": "LayoutModel",
       "_view_count": null,
       "_view_module": "@jupyter-widgets/base",
       "_view_module_version": "1.2.0",
       "_view_name": "LayoutView",
       "align_content": null,
       "align_items": null,
       "align_self": null,
       "border": null,
       "bottom": null,
       "display": null,
       "flex": null,
       "flex_flow": null,
       "grid_area": null,
       "grid_auto_columns": null,
       "grid_auto_flow": null,
       "grid_auto_rows": null,
       "grid_column": null,
       "grid_gap": null,
       "grid_row": null,
       "grid_template_areas": null,
       "grid_template_columns": null,
       "grid_template_rows": null,
       "height": null,
       "justify_content": null,
       "justify_items": null,
       "left": null,
       "margin": null,
       "max_height": null,
       "max_width": null,
       "min_height": null,
       "min_width": null,
       "object_fit": null,
       "object_position": null,
       "order": null,
       "overflow": null,
       "overflow_x": null,
       "overflow_y": null,
       "padding": null,
       "right": null,
       "top": null,
       "visibility": null,
       "width": null
      }
     },
     "cab321637a6c4030b8cc051dc0c548d8": {
      "model_module": "@jupyter-widgets/controls",
      "model_module_version": "1.5.0",
      "model_name": "HTMLModel",
      "state": {
       "_dom_classes": [],
       "_model_module": "@jupyter-widgets/controls",
       "_model_module_version": "1.5.0",
       "_model_name": "HTMLModel",
       "_view_count": null,
       "_view_module": "@jupyter-widgets/controls",
       "_view_module_version": "1.5.0",
       "_view_name": "HTMLView",
       "description": "",
       "description_tooltip": null,
       "layout": "IPY_MODEL_5c62cb42a1da4d629063489f370e445b",
       "placeholder": "​",
       "style": "IPY_MODEL_60c3ae07021849198add1de50f64cc08",
       "value": " 570/570 [00:00&lt;00:00, 40.6kB/s]"
      }
     },
     "cc6014f99d064da9a01c9a05ae78d26b": {
      "model_module": "@jupyter-widgets/controls",
      "model_module_version": "1.5.0",
      "model_name": "HTMLModel",
      "state": {
       "_dom_classes": [],
       "_model_module": "@jupyter-widgets/controls",
       "_model_module_version": "1.5.0",
       "_model_name": "HTMLModel",
       "_view_count": null,
       "_view_module": "@jupyter-widgets/controls",
       "_view_module_version": "1.5.0",
       "_view_name": "HTMLView",
       "description": "",
       "description_tooltip": null,
       "layout": "IPY_MODEL_c8a421e477d1469896c6f7d0755d2093",
       "placeholder": "​",
       "style": "IPY_MODEL_f92b79d98951407d817231b95ba27c99",
       "value": "Downloading (…)&quot;config.json&quot;;: 100%"
      }
     },
     "cee9e27de16142d39b761383f261ec2c": {
      "model_module": "@jupyter-widgets/controls",
      "model_module_version": "1.5.0",
      "model_name": "HTMLModel",
      "state": {
       "_dom_classes": [],
       "_model_module": "@jupyter-widgets/controls",
       "_model_module_version": "1.5.0",
       "_model_name": "HTMLModel",
       "_view_count": null,
       "_view_module": "@jupyter-widgets/controls",
       "_view_module_version": "1.5.0",
       "_view_name": "HTMLView",
       "description": "",
       "description_tooltip": null,
       "layout": "IPY_MODEL_0cd3d09cb21f461ca4d8bc3ebc395934",
       "placeholder": "​",
       "style": "IPY_MODEL_2e041565f33041b496296a5310d7637d",
       "value": "Downloading (…)&quot;vocab.txt&quot;;: 100%"
      }
     },
     "d04e6f6384b24263bc2c97471b62f61b": {
      "model_module": "@jupyter-widgets/controls",
      "model_module_version": "1.5.0",
      "model_name": "DescriptionStyleModel",
      "state": {
       "_model_module": "@jupyter-widgets/controls",
       "_model_module_version": "1.5.0",
       "_model_name": "DescriptionStyleModel",
       "_view_count": null,
       "_view_module": "@jupyter-widgets/base",
       "_view_module_version": "1.2.0",
       "_view_name": "StyleView",
       "description_width": ""
      }
     },
     "d94a04d90c144470a53a82d3744e89a1": {
      "model_module": "@jupyter-widgets/base",
      "model_module_version": "1.2.0",
      "model_name": "LayoutModel",
      "state": {
       "_model_module": "@jupyter-widgets/base",
       "_model_module_version": "1.2.0",
       "_model_name": "LayoutModel",
       "_view_count": null,
       "_view_module": "@jupyter-widgets/base",
       "_view_module_version": "1.2.0",
       "_view_name": "LayoutView",
       "align_content": null,
       "align_items": null,
       "align_self": null,
       "border": null,
       "bottom": null,
       "display": null,
       "flex": null,
       "flex_flow": null,
       "grid_area": null,
       "grid_auto_columns": null,
       "grid_auto_flow": null,
       "grid_auto_rows": null,
       "grid_column": null,
       "grid_gap": null,
       "grid_row": null,
       "grid_template_areas": null,
       "grid_template_columns": null,
       "grid_template_rows": null,
       "height": null,
       "justify_content": null,
       "justify_items": null,
       "left": null,
       "margin": null,
       "max_height": null,
       "max_width": null,
       "min_height": null,
       "min_width": null,
       "object_fit": null,
       "object_position": null,
       "order": null,
       "overflow": null,
       "overflow_x": null,
       "overflow_y": null,
       "padding": null,
       "right": null,
       "top": null,
       "visibility": null,
       "width": null
      }
     },
     "df499aa15f474349bb5e04322ffffa01": {
      "model_module": "@jupyter-widgets/controls",
      "model_module_version": "1.5.0",
      "model_name": "FloatProgressModel",
      "state": {
       "_dom_classes": [],
       "_model_module": "@jupyter-widgets/controls",
       "_model_module_version": "1.5.0",
       "_model_name": "FloatProgressModel",
       "_view_count": null,
       "_view_module": "@jupyter-widgets/controls",
       "_view_module_version": "1.5.0",
       "_view_name": "ProgressView",
       "bar_style": "success",
       "description": "",
       "description_tooltip": null,
       "layout": "IPY_MODEL_9348c5d563b74cb09aedf1699836aee7",
       "max": 231508.0,
       "min": 0.0,
       "orientation": "horizontal",
       "style": "IPY_MODEL_740c8c0991af4f8fb3f3759075a9a197",
       "value": 231508.0
      }
     },
     "f21bf9d4307e4685a89259e439f5ab8a": {
      "model_module": "@jupyter-widgets/base",
      "model_module_version": "1.2.0",
      "model_name": "LayoutModel",
      "state": {
       "_model_module": "@jupyter-widgets/base",
       "_model_module_version": "1.2.0",
       "_model_name": "LayoutModel",
       "_view_count": null,
       "_view_module": "@jupyter-widgets/base",
       "_view_module_version": "1.2.0",
       "_view_name": "LayoutView",
       "align_content": null,
       "align_items": null,
       "align_self": null,
       "border": null,
       "bottom": null,
       "display": null,
       "flex": null,
       "flex_flow": null,
       "grid_area": null,
       "grid_auto_columns": null,
       "grid_auto_flow": null,
       "grid_auto_rows": null,
       "grid_column": null,
       "grid_gap": null,
       "grid_row": null,
       "grid_template_areas": null,
       "grid_template_columns": null,
       "grid_template_rows": null,
       "height": null,
       "justify_content": null,
       "justify_items": null,
       "left": null,
       "margin": null,
       "max_height": null,
       "max_width": null,
       "min_height": null,
       "min_width": null,
       "object_fit": null,
       "object_position": null,
       "order": null,
       "overflow": null,
       "overflow_x": null,
       "overflow_y": null,
       "padding": null,
       "right": null,
       "top": null,
       "visibility": null,
       "width": null
      }
     },
     "f92b79d98951407d817231b95ba27c99": {
      "model_module": "@jupyter-widgets/controls",
      "model_module_version": "1.5.0",
      "model_name": "DescriptionStyleModel",
      "state": {
       "_model_module": "@jupyter-widgets/controls",
       "_model_module_version": "1.5.0",
       "_model_name": "DescriptionStyleModel",
       "_view_count": null,
       "_view_module": "@jupyter-widgets/base",
       "_view_module_version": "1.2.0",
       "_view_name": "StyleView",
       "description_width": ""
      }
     }
    },
    "version_major": 2,
    "version_minor": 0
   }
  }
 },
 "nbformat": 4,
 "nbformat_minor": 5
}
